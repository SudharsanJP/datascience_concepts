{
 "cells": [
  {
   "cell_type": "code",
   "execution_count": 21,
   "id": "13f2ce81-92b7-445f-b76c-81aaef008f03",
   "metadata": {},
   "outputs": [
    {
     "name": "stdout",
     "output_type": "stream",
     "text": [
      "title: cumulative test prepration - python basics \n",
      "\\guvi\\\n"
     ]
    }
   ],
   "source": [
    "#)title\n",
    "print(\"title: cumulative test prepration - python basics \\n\\\\guvi\\\\\")"
   ]
  },
  {
   "cell_type": "code",
   "execution_count": 3,
   "id": "2951a0a9-8de9-4f66-9793-61fd3f2044e1",
   "metadata": {},
   "outputs": [
    {
     "name": "stdout",
     "output_type": "stream",
     "text": [
      "sudharsan\n"
     ]
    }
   ],
   "source": [
    "#)string\n",
    "print(\"sudharsan\")"
   ]
  },
  {
   "cell_type": "code",
   "execution_count": 4,
   "id": "bf28f92f-011b-45a3-b661-e07fba7fe19b",
   "metadata": {},
   "outputs": [
    {
     "name": "stdout",
     "output_type": "stream",
     "text": [
      "45\n"
     ]
    }
   ],
   "source": [
    "#)integer\n",
    "print(45)"
   ]
  },
  {
   "cell_type": "code",
   "execution_count": 5,
   "id": "68431d5c-7860-46b6-938c-14a94e3023e6",
   "metadata": {},
   "outputs": [
    {
     "name": "stdout",
     "output_type": "stream",
     "text": [
      "878.67\n"
     ]
    }
   ],
   "source": [
    "#)float\n",
    "print(878.67)"
   ]
  },
  {
   "cell_type": "code",
   "execution_count": 6,
   "id": "f12887f1-91e9-4800-9570-22022c69e97d",
   "metadata": {},
   "outputs": [
    {
     "name": "stdout",
     "output_type": "stream",
     "text": [
      "False\n"
     ]
    }
   ],
   "source": [
    "#)boolean\n",
    "print(False)"
   ]
  },
  {
   "cell_type": "code",
   "execution_count": 2,
   "id": "7a41791d-9840-441e-b48c-97ea038d0681",
   "metadata": {},
   "outputs": [
    {
     "name": "stdout",
     "output_type": "stream",
     "text": [
      "letter pad\n",
      "2024\n",
      "89.65\n",
      "True\n"
     ]
    }
   ],
   "source": [
    "#)variable - string\n",
    "my_name = \"letter pad\"\n",
    "print(my_name)\n",
    "\n",
    "#)variable - int\n",
    "current_year = 2024\n",
    "print(current_year)\n",
    "\n",
    "#)variable - float\n",
    "my_bill = 89.65\n",
    "print(my_bill)\n",
    "\n",
    "#)variable - bool\n",
    "my_bool = True\n",
    "print(my_bool)"
   ]
  },
  {
   "cell_type": "code",
   "execution_count": 3,
   "id": "7081cf3a-62ea-4230-a11e-12cf5ce25ed3",
   "metadata": {},
   "outputs": [
    {
     "name": "stdout",
     "output_type": "stream",
     "text": [
      "my name is:\n",
      " letter pad\n",
      "the current year is:\n",
      " 2024\n",
      "the electricity bill is:\n",
      " 89.65\n",
      "the opinion about him is:\n",
      " True\n"
     ]
    }
   ],
   "source": [
    "#) print variable with text data\n",
    "print(\"my name is:\\n\",my_name)\n",
    "\n",
    "print(\"the current year is:\\n\",current_year)\n",
    "\n",
    "print(\"the electricity bill is:\\n\",my_bill)\n",
    "\n",
    "print(\"the opinion about him is:\\n\",my_bool)"
   ]
  },
  {
   "cell_type": "code",
   "execution_count": 19,
   "id": "c07a98f8-4fb5-410e-8f0b-53eceee1cfd8",
   "metadata": {},
   "outputs": [
    {
     "name": "stdout",
     "output_type": "stream",
     "text": [
      "I have a house named letter pad which I built in 2024\n"
     ]
    }
   ],
   "source": [
    "#)print multiple variables with text\n",
    "print(f\"I have a house named {my_name} which I built in {current_year}\")"
   ]
  },
  {
   "cell_type": "code",
   "execution_count": 20,
   "id": "cca29613-5f66-40a8-bb6a-60266ec619a0",
   "metadata": {},
   "outputs": [
    {
     "name": "stdout",
     "output_type": "stream",
     "text": [
      "my house electricity bill is 89.65 which I predicted True\n"
     ]
    }
   ],
   "source": [
    "#)print multiple variables with text\n",
    "print(f\"my house electricity bill is {my_bill} which I predicted {my_bool}\")"
   ]
  },
  {
   "cell_type": "code",
   "execution_count": 23,
   "id": "1ddd0294-2e47-4042-ba37-c7306dfcc3c1",
   "metadata": {},
   "outputs": [
    {
     "name": "stdin",
     "output_type": "stream",
     "text": [
      "Enter your name:\n",
      " sudharsan\n",
      "Enter your age:\n",
      " 32\n",
      "Enter your marks:\n",
      " 56\n",
      "input our friendly characteristics:\n",
      " True\n"
     ]
    }
   ],
   "source": [
    "#) getting inputs from users\n",
    "user_name = input(\"Enter your name:\\n\")\n",
    "\n",
    "user_age = input(\"Enter your age:\\n\")\n",
    "\n",
    "user_marks = input(\"Enter your marks:\\n\")\n",
    "\n",
    "user_friendly = input (\"input our friendly characteristics:\\n\")"
   ]
  },
  {
   "cell_type": "code",
   "execution_count": 24,
   "id": "46f946a9-29e5-4b37-a4c6-95eb1b2a9021",
   "metadata": {},
   "outputs": [
    {
     "name": "stdout",
     "output_type": "stream",
     "text": [
      "the data type of 32 is\n",
      "<class 'str'>\n"
     ]
    }
   ],
   "source": [
    "#) checking the user input datatypes\n",
    "user_age_dtype = type(user_age)\n",
    "print(f\"the data type of {user_age} is\\n{user_age_dtype}\")"
   ]
  },
  {
   "cell_type": "code",
   "execution_count": 25,
   "id": "f3b016a3-eacd-4ea2-a2d2-927592dd0803",
   "metadata": {},
   "outputs": [
    {
     "name": "stdin",
     "output_type": "stream",
     "text": [
      "Enter your name:\n",
      " sudharsan\n",
      "Enter your age:\n",
      " 32\n",
      "Enter your marks:\n",
      " 45.6\n",
      "input our friendly characteristics:\n",
      " True\n"
     ]
    }
   ],
   "source": [
    "#)type casting\n",
    "user_name = str(input(\"Enter your name:\\n\"))\n",
    "\n",
    "user_age = int(input(\"Enter your age:\\n\"))\n",
    "\n",
    "user_marks = float(input(\"Enter your marks:\\n\"))\n",
    "\n",
    "user_friendly = bool(input (\"input our friendly characteristics:\\n\"))"
   ]
  },
  {
   "cell_type": "code",
   "execution_count": 26,
   "id": "a966a177-3b48-44e1-b692-256127b27910",
   "metadata": {},
   "outputs": [
    {
     "name": "stdout",
     "output_type": "stream",
     "text": [
      "the data type of 32 is\n",
      "<class 'int'>\n"
     ]
    }
   ],
   "source": [
    "#) checking the user input datatypes after type casting\n",
    "user_age_dtype = type(user_age)\n",
    "print(f\"the data type of {user_age} is\\n{user_age_dtype}\")"
   ]
  },
  {
   "cell_type": "code",
   "execution_count": 30,
   "id": "42fb9259-341f-415c-9970-4fc5947b8e48",
   "metadata": {},
   "outputs": [
    {
     "name": "stdin",
     "output_type": "stream",
     "text": [
      "Enter the number 1:\n",
      " 3456\n",
      "Enter the number 2:\n",
      " 23\n"
     ]
    },
    {
     "name": "stdout",
     "output_type": "stream",
     "text": [
      "\n",
      "addition:\n",
      "3479\n",
      "\n",
      "subtraction:\n",
      "3433\n",
      "\n",
      "multiplication:\n",
      "79488\n",
      "\n",
      "division:\n",
      "150.2608695652174\n",
      "\n",
      "quotient:\n",
      "150\n",
      "\n",
      "reminder:\n",
      "6\n"
     ]
    }
   ],
   "source": [
    "#) arithmetic operators\n",
    "user_num1 = int(input(\"Enter the number 1:\\n\"))\n",
    "user_num2 = int(input(\"Enter the number 2:\\n\"))\n",
    "addition = user_num1 + user_num2\n",
    "subtract = user_num1 - user_num2\n",
    "multiple = user_num1 * user_num2\n",
    "division = user_num1 / user_num2\n",
    "quotient = user_num1 // user_num2\n",
    "reminder = user_num1%user_num2\n",
    "print(f\"\\naddition:\\n{addition}\\n\\nsubtraction:\\n{subtract}\\n\\nmultiplication:\\n{multiple}\")\n",
    "print(f\"\\ndivision:\\n{division}\\n\\nquotient:\\n{quotient}\\n\\nreminder:\\n{reminder}\")"
   ]
  },
  {
   "cell_type": "code",
   "execution_count": 12,
   "id": "f55c1580-060c-4340-ae02-37ab6a9ad7f4",
   "metadata": {},
   "outputs": [
    {
     "name": "stdout",
     "output_type": "stream",
     "text": [
      "pad\n",
      "tte\n",
      "er pad\n",
      "r pa\n"
     ]
    }
   ],
   "source": [
    "#)string slicing\n",
    "slice1 = my_name[7:]\n",
    "print(slice1)\n",
    "\n",
    "slice2 = my_name[2:5]\n",
    "print(slice2)\n",
    "\n",
    "slice3 = my_name[-6:]\n",
    "print(slice3)\n",
    "\n",
    "slice4 = my_name[-5:-1]\n",
    "print(slice4)"
   ]
  },
  {
   "cell_type": "code",
   "execution_count": 33,
   "id": "89721469-fd47-4d12-a3f0-aeb995d8b512",
   "metadata": {},
   "outputs": [
    {
     "data": {
      "text/plain": [
       "4"
      ]
     },
     "execution_count": 33,
     "metadata": {},
     "output_type": "execute_result"
    }
   ],
   "source": [
    "#) counting the string letters\n",
    "len(slice4)"
   ]
  },
  {
   "cell_type": "code",
   "execution_count": 13,
   "id": "5760da6b-b5cf-47e4-a38c-a0a9d1dd3546",
   "metadata": {},
   "outputs": [
    {
     "name": "stdout",
     "output_type": "stream",
     "text": [
      "['sudharsan', 3034, 25.789, True]\n"
     ]
    }
   ],
   "source": [
    "#) list\n",
    "my_list = ['sudharsan',3034,25.789,True]\n",
    "print(my_list)"
   ]
  },
  {
   "cell_type": "code",
   "execution_count": 16,
   "id": "1b5aad8b-fc7e-4d72-b2a1-50e0c77f82b4",
   "metadata": {},
   "outputs": [
    {
     "name": "stdout",
     "output_type": "stream",
     "text": [
      "sudharsan\n",
      "[3034, 25.789]\n",
      "3034\n"
     ]
    }
   ],
   "source": [
    "#)list slicing\n",
    "list_slice1 = my_list[0]\n",
    "print(list_slice1)\n",
    "\n",
    "list_slice2 = my_list[1:3]\n",
    "print(list_slice2)\n",
    "\n",
    "list_slice3 = my_list[-3]\n",
    "print(list_slice3)"
   ]
  },
  {
   "cell_type": "code",
   "execution_count": 17,
   "id": "a298e861-e592-4808-a4ce-7735714f8983",
   "metadata": {},
   "outputs": [
    {
     "name": "stdout",
     "output_type": "stream",
     "text": [
      "['sudharsan', 3034, 25.789, True, 'Rudramurthy']\n"
     ]
    }
   ],
   "source": [
    "#) appending the list\n",
    "new_name = 'Rudramurthy'\n",
    "my_list.append(new_name)\n",
    "print(my_list)"
   ]
  },
  {
   "cell_type": "code",
   "execution_count": 18,
   "id": "02151763-6583-4b28-802e-6ea5fd370d05",
   "metadata": {},
   "outputs": [
    {
     "name": "stdout",
     "output_type": "stream",
     "text": [
      "['sudharsan', 3034, 25.789, True, 'Rudramurthy', [10, 'coimbatore', 234.56]]\n"
     ]
    }
   ],
   "source": [
    "#) appending the list\n",
    "new_list = [10,'coimbatore',234.56]\n",
    "my_list.append(new_list)\n",
    "print(my_list)"
   ]
  },
  {
   "cell_type": "code",
   "execution_count": 19,
   "id": "34b9748b-13f4-42d2-aade-8180a539da4b",
   "metadata": {},
   "outputs": [
    {
     "name": "stdout",
     "output_type": "stream",
     "text": [
      "[10, 'coimbatore', 234.56, 'H', 'a', 'r', 'i']\n"
     ]
    }
   ],
   "source": [
    "#)extending the list\n",
    "new_name2 = 'Hari'\n",
    "new_list.extend(new_name2)\n",
    "print(new_list)"
   ]
  },
  {
   "cell_type": "code",
   "execution_count": 20,
   "id": "c250bb80-9830-4af7-a48a-d2868d5938ea",
   "metadata": {},
   "outputs": [
    {
     "name": "stdout",
     "output_type": "stream",
     "text": [
      "[10, 'coimbatore', 234.56, 'H', 'a', 'r', 'i', 34, 'sweet', 45.67]\n"
     ]
    }
   ],
   "source": [
    "#)extending the list\n",
    "new_list1 = [34,'sweet',45.67]\n",
    "new_list.extend(new_list1)\n",
    "print(new_list)"
   ]
  },
  {
   "cell_type": "code",
   "execution_count": 23,
   "id": "99dd7e88-1daa-40e3-aa6e-5a6062065624",
   "metadata": {},
   "outputs": [
    {
     "name": "stdout",
     "output_type": "stream",
     "text": [
      "1\n"
     ]
    }
   ],
   "source": [
    "#)counting the elements in the list\n",
    "count_list = new_list.count(10)\n",
    "print(count_list)"
   ]
  },
  {
   "cell_type": "code",
   "execution_count": 28,
   "id": "6a94f363-9228-4088-9c6e-b18e7413d990",
   "metadata": {},
   "outputs": [
    {
     "data": {
      "text/plain": [
       "3"
      ]
     },
     "execution_count": 28,
     "metadata": {},
     "output_type": "execute_result"
    }
   ],
   "source": [
    "#) to find a position of an element in the list\n",
    "new_list.index('H')"
   ]
  },
  {
   "cell_type": "code",
   "execution_count": 31,
   "id": "c054b7be-3456-4788-990a-74ecde967664",
   "metadata": {},
   "outputs": [
    {
     "name": "stdout",
     "output_type": "stream",
     "text": [
      "['sudharsan', 3034, 25.789, 'tree', 'tree', True, 'Rudramurthy', [10, 'coimbatore', 234.56, 'H', 'a', 'r', 'i', 34, 'sweet', 45.67]]\n"
     ]
    }
   ],
   "source": [
    "#)inserting an element in the list with index\n",
    "my_list.insert(3,'tree')\n",
    "print(my_list)"
   ]
  },
  {
   "cell_type": "code",
   "execution_count": 32,
   "id": "1296ea7b-39e3-4a5e-9894-db4065745b4e",
   "metadata": {},
   "outputs": [
    {
     "name": "stdout",
     "output_type": "stream",
     "text": [
      "['sudharsan', 3034, 25.789, 'tree', 'cap', 'tree', True, 'Rudramurthy', [10, 'coimbatore', 234.56, 'H', 'a', 'r', 'i', 34, 'sweet', 45.67]]\n"
     ]
    }
   ],
   "source": [
    "#)inserting an element in the list with index\n",
    "my_list.insert(4,'cap')\n",
    "print(my_list)"
   ]
  },
  {
   "cell_type": "code",
   "execution_count": 34,
   "id": "35801e79-aa72-41d0-aa05-417b94f03a71",
   "metadata": {},
   "outputs": [
    {
     "name": "stdout",
     "output_type": "stream",
     "text": [
      "['sudharsan', 25.789, 'tree', 'cap', 'tree', True, 'Rudramurthy', [10, 'coimbatore', 234.56, 'H', 'a', 'r', 'i', 34, 'sweet', 45.67]]\n"
     ]
    }
   ],
   "source": [
    "#)deleting an element in the list - pop\n",
    "my_list.pop(1)\n",
    "print(my_list)"
   ]
  },
  {
   "cell_type": "code",
   "execution_count": 36,
   "id": "1c013d37-0b2d-4b30-a793-a2a37a8eef29",
   "metadata": {},
   "outputs": [],
   "source": [
    "#)deleting an element in the list - remove\n",
    "my_list.remove('tree')"
   ]
  },
  {
   "cell_type": "code",
   "execution_count": 37,
   "id": "9bacf389-0dc9-4cb5-8983-8d185de5b0d1",
   "metadata": {},
   "outputs": [
    {
     "name": "stdout",
     "output_type": "stream",
     "text": [
      "['sudharsan', 25.789, 'cap', 'tree', True, 'Rudramurthy', [10, 'coimbatore', 234.56, 'H', 'a', 'r', 'i', 34, 'sweet', 45.67]]\n"
     ]
    }
   ],
   "source": [
    "print(my_list)"
   ]
  },
  {
   "cell_type": "code",
   "execution_count": 38,
   "id": "a2efccac-4e01-478b-8aa4-764f9f73b8fc",
   "metadata": {},
   "outputs": [
    {
     "name": "stdout",
     "output_type": "stream",
     "text": [
      "('Apple', 35, 786.67, 98)\n"
     ]
    }
   ],
   "source": [
    "#) tuple\n",
    "my_tuple = ('Apple',35,786.67,98)\n",
    "print(my_tuple)"
   ]
  },
  {
   "cell_type": "code",
   "execution_count": 39,
   "id": "65c49a33-5b96-4e75-9130-4a06a6a4f248",
   "metadata": {},
   "outputs": [
    {
     "ename": "AttributeError",
     "evalue": "'tuple' object has no attribute 'append'",
     "output_type": "error",
     "traceback": [
      "\u001b[1;31m---------------------------------------------------------------------------\u001b[0m",
      "\u001b[1;31mAttributeError\u001b[0m                            Traceback (most recent call last)",
      "Cell \u001b[1;32mIn[39], line 2\u001b[0m\n\u001b[0;32m      1\u001b[0m \u001b[38;5;66;03m#) tuple is immutable\u001b[39;00m\n\u001b[1;32m----> 2\u001b[0m \u001b[43mmy_tuple\u001b[49m\u001b[38;5;241;43m.\u001b[39;49m\u001b[43mappend\u001b[49m(\u001b[38;5;241m67\u001b[39m)\n",
      "\u001b[1;31mAttributeError\u001b[0m: 'tuple' object has no attribute 'append'"
     ]
    }
   ],
   "source": [
    "#) tuple is immutable\n",
    "my_tuple.append(67)"
   ]
  },
  {
   "cell_type": "code",
   "execution_count": 42,
   "id": "5d7c0728-afa9-43de-b56e-93deb9f65a1b",
   "metadata": {},
   "outputs": [
    {
     "name": "stdout",
     "output_type": "stream",
     "text": [
      "{67, 6, 10, 12, 45}\n"
     ]
    }
   ],
   "source": [
    "#) set not allowing the duplicate\n",
    "my_set = {6,10,12,45,45,67}\n",
    "print(my_set)"
   ]
  },
  {
   "cell_type": "code",
   "execution_count": 43,
   "id": "05ca4a34-58db-4047-a587-f442a62b4d5d",
   "metadata": {},
   "outputs": [
    {
     "name": "stdout",
     "output_type": "stream",
     "text": [
      "{'name': 'sudharsan', 'age': 32, 'native': 'coimbatore', 'course': 'data science', 'institute': 'guvi'}\n"
     ]
    }
   ],
   "source": [
    "#) dictionary\n",
    "my_dict = {\"name\":'sudharsan',\n",
    "          \"age\":32,\n",
    "          \"native\":\"coimbatore\",\n",
    "          \"course\": \"data science\",\n",
    "          \"institute\":\"guvi\"}\n",
    "print(my_dict)"
   ]
  },
  {
   "cell_type": "code",
   "execution_count": 44,
   "id": "ed4cf1e1-032d-446e-b5a2-615778545180",
   "metadata": {},
   "outputs": [
    {
     "data": {
      "text/plain": [
       "dict_keys(['name', 'age', 'native', 'course', 'institute'])"
      ]
     },
     "execution_count": 44,
     "metadata": {},
     "output_type": "execute_result"
    }
   ],
   "source": [
    "#)acccessing the dictionary - keys\n",
    "my_dict.keys()"
   ]
  },
  {
   "cell_type": "code",
   "execution_count": 45,
   "id": "60801b1c-c8eb-4219-a195-ffc47b9a2fe9",
   "metadata": {},
   "outputs": [
    {
     "data": {
      "text/plain": [
       "dict_values(['sudharsan', 32, 'coimbatore', 'data science', 'guvi'])"
      ]
     },
     "execution_count": 45,
     "metadata": {},
     "output_type": "execute_result"
    }
   ],
   "source": [
    "#)values\n",
    "my_dict.values()"
   ]
  },
  {
   "cell_type": "code",
   "execution_count": 46,
   "id": "09108760-1056-4f35-a339-a4223c9a2400",
   "metadata": {},
   "outputs": [
    {
     "data": {
      "text/plain": [
       "dict_items([('name', 'sudharsan'), ('age', 32), ('native', 'coimbatore'), ('course', 'data science'), ('institute', 'guvi')])"
      ]
     },
     "execution_count": 46,
     "metadata": {},
     "output_type": "execute_result"
    }
   ],
   "source": [
    "#) items\n",
    "my_dict.items()"
   ]
  },
  {
   "cell_type": "code",
   "execution_count": 49,
   "id": "16f80aa6-53a7-4aba-9796-98d199d37d3f",
   "metadata": {},
   "outputs": [
    {
     "data": {
      "text/plain": [
       "'sudharsan'"
      ]
     },
     "execution_count": 49,
     "metadata": {},
     "output_type": "execute_result"
    }
   ],
   "source": [
    "#) accesing one key\n",
    "my_dict['name']"
   ]
  },
  {
   "cell_type": "code",
   "execution_count": 50,
   "id": "4daba109-1bf9-44f9-8540-83a91b4c7bbc",
   "metadata": {},
   "outputs": [],
   "source": [
    "#) inserting new key\n",
    "my_dict['local'] = 'chennai'"
   ]
  },
  {
   "cell_type": "code",
   "execution_count": 51,
   "id": "2b088803-402c-400f-89f8-bee2593dc79f",
   "metadata": {},
   "outputs": [
    {
     "name": "stdout",
     "output_type": "stream",
     "text": [
      "{'name': 'sudharsan', 'age': 32, 'native': 'coimbatore', 'course': 'data science', 'institute': 'guvi', 'local': 'chennai'}\n"
     ]
    }
   ],
   "source": [
    "print(my_dict)"
   ]
  },
  {
   "cell_type": "code",
   "execution_count": 52,
   "id": "89674d52-037b-4004-bffe-7ab756080397",
   "metadata": {},
   "outputs": [
    {
     "name": "stdout",
     "output_type": "stream",
     "text": [
      "{'name': 'sudharsan', 'native': 'coimbatore', 'course': 'data science', 'institute': 'guvi', 'local': 'chennai'}\n"
     ]
    }
   ],
   "source": [
    "#)deleting one key\n",
    "my_dict.pop(\"age\")\n",
    "print(my_dict)"
   ]
  },
  {
   "cell_type": "code",
   "execution_count": 53,
   "id": "b0a19e8e-a5a3-4ab6-8769-ca0491249d26",
   "metadata": {},
   "outputs": [
    {
     "name": "stdout",
     "output_type": "stream",
     "text": [
      "True\n"
     ]
    }
   ],
   "source": [
    "#) true\n",
    "print(bool(\"Hello\"))"
   ]
  },
  {
   "cell_type": "code",
   "execution_count": 54,
   "id": "a61d8e05-b263-4e6d-89a9-d447c8fa41e2",
   "metadata": {},
   "outputs": [
    {
     "name": "stdout",
     "output_type": "stream",
     "text": [
      "False\n"
     ]
    }
   ],
   "source": [
    "#) false\n",
    "print(bool())"
   ]
  },
  {
   "cell_type": "code",
   "execution_count": 56,
   "id": "5a28cadc-178b-460a-90b2-cecb364b5f6b",
   "metadata": {},
   "outputs": [
    {
     "name": "stdout",
     "output_type": "stream",
     "text": [
      "my name is sudharsan\n"
     ]
    }
   ],
   "source": [
    "#) string concantation\n",
    "text_a = \"my name is\"\n",
    "text_b = \" sudharsan\"\n",
    "concanted_text = text_a + text_b\n",
    "print(concanted_text)"
   ]
  },
  {
   "cell_type": "code",
   "execution_count": 57,
   "id": "fe47ff63-347a-433b-8765-cd78631139cc",
   "metadata": {},
   "outputs": [
    {
     "data": {
      "text/plain": [
       "10"
      ]
     },
     "execution_count": 57,
     "metadata": {},
     "output_type": "execute_result"
    }
   ],
   "source": [
    "#) string length\n",
    "len(my_name)"
   ]
  },
  {
   "cell_type": "code",
   "execution_count": 62,
   "id": "b7152057-dfd0-4452-bc66-b0a7955f8867",
   "metadata": {},
   "outputs": [
    {
     "name": "stdout",
     "output_type": "stream",
     "text": [
      "3\n",
      "9\n",
      "27\n"
     ]
    }
   ],
   "source": [
    "#) arithmetic operators - square\n",
    "x =3\n",
    "print(x**1)\n",
    "\n",
    "x =3\n",
    "print(x**2)\n",
    "\n",
    "x =3\n",
    "print(x**3)"
   ]
  },
  {
   "cell_type": "code",
   "execution_count": 73,
   "id": "c85c3692-2e4a-430b-bddc-493b1ca030d4",
   "metadata": {},
   "outputs": [
    {
     "name": "stdin",
     "output_type": "stream",
     "text": [
      "Enter your age: 10\n"
     ]
    },
    {
     "name": "stdout",
     "output_type": "stream",
     "text": [
      "you are not eligible for the vote\n"
     ]
    }
   ],
   "source": [
    "#) if condition with logical operators\n",
    "user_age = int(input(\"Enter your age:\"))\n",
    "if user_age > 18:\n",
    "    print(\"you are eligible for the vote\")\n",
    "else:\n",
    "    print(\"you are not eligible for the vote\")"
   ]
  },
  {
   "cell_type": "code",
   "execution_count": 75,
   "id": "e7b70de3-397a-433e-9a6f-665d373164a7",
   "metadata": {},
   "outputs": [
    {
     "name": "stdin",
     "output_type": "stream",
     "text": [
      "Enter your age: 12\n"
     ]
    },
    {
     "name": "stdout",
     "output_type": "stream",
     "text": [
      "you are not elegible for the vote\n"
     ]
    }
   ],
   "source": [
    "user_age = int(input(\"Enter your age:\"))\n",
    "if user_age < 18:\n",
    "    print(\"you are not elegible for the vote\")\n",
    "else:\n",
    "    print(\"you are eligible for the vote\")"
   ]
  },
  {
   "cell_type": "code",
   "execution_count": 76,
   "id": "a570bf90-0005-41d6-aba4-235e054fb8d2",
   "metadata": {},
   "outputs": [
    {
     "name": "stdin",
     "output_type": "stream",
     "text": [
      "Enter your age: 45\n"
     ]
    },
    {
     "name": "stdout",
     "output_type": "stream",
     "text": [
      "you are eligible for the vote\n"
     ]
    }
   ],
   "source": [
    "#) if not\n",
    "user_age = int(input(\"Enter your age:\"))\n",
    "if not user_age > 18:\n",
    "    print(\"you are not elegible for the vote\")\n",
    "else:\n",
    "    print(\"you are eligible for the vote\")"
   ]
  },
  {
   "cell_type": "code",
   "execution_count": 80,
   "id": "57651b19-c69c-42f1-8012-a1a1a6e5994b",
   "metadata": {},
   "outputs": [
    {
     "name": "stdin",
     "output_type": "stream",
     "text": [
      "Enter your marks: 75\n"
     ]
    },
    {
     "name": "stdout",
     "output_type": "stream",
     "text": [
      "C\n"
     ]
    }
   ],
   "source": [
    "#) if, elif\n",
    "user_marks = float(input(\"Enter your marks:\"))\n",
    "if user_marks >= 90:\n",
    "    grade = 'A'\n",
    "elif user_marks>=80:\n",
    "    grade = 'B'\n",
    "elif user_marks >=70:\n",
    "    grade = 'C'\n",
    "else:\n",
    "    grade = 'pass'\n",
    "print(grade)"
   ]
  },
  {
   "cell_type": "code",
   "execution_count": 85,
   "id": "91934d15-5ecd-447b-bbc4-7dc46901781d",
   "metadata": {},
   "outputs": [
    {
     "name": "stdin",
     "output_type": "stream",
     "text": [
      "Enter your favourite place 1: chennai\n",
      "Enter your favorite place 2 attur\n"
     ]
    },
    {
     "name": "stdout",
     "output_type": "stream",
     "text": [
      "not my favourite\n"
     ]
    }
   ],
   "source": [
    "#) and\n",
    "place1 = str(input(\"Enter your favourite place 1:\"))\n",
    "place2 = str(input(\"Enter your favorite place 2\"))\n",
    "if place1 == 'chennai' and place2 == 'salem':\n",
    "    print(\"my favorite\")\n",
    "else:\n",
    "    print('not my favourite')"
   ]
  },
  {
   "cell_type": "code",
   "execution_count": 88,
   "id": "64404028-92fa-4d16-a3ce-dc32364f64ed",
   "metadata": {},
   "outputs": [
    {
     "name": "stdin",
     "output_type": "stream",
     "text": [
      "Enter your favourite place 1: erode\n",
      "Enter your favorite place 2 salem\n"
     ]
    },
    {
     "name": "stdout",
     "output_type": "stream",
     "text": [
      "my favorite\n"
     ]
    }
   ],
   "source": [
    "#) or\n",
    "place1 = str(input(\"Enter your favourite place 1:\"))\n",
    "place2 = str(input(\"Enter your favorite place 2\"))\n",
    "if place1 == 'chennai' or place2 == 'salem':\n",
    "    print(\"my favorite\")\n",
    "else:\n",
    "    print('not my favourite')"
   ]
  }
 ],
 "metadata": {
  "kernelspec": {
   "display_name": "Python 3 (ipykernel)",
   "language": "python",
   "name": "python3"
  },
  "language_info": {
   "codemirror_mode": {
    "name": "ipython",
    "version": 3
   },
   "file_extension": ".py",
   "mimetype": "text/x-python",
   "name": "python",
   "nbconvert_exporter": "python",
   "pygments_lexer": "ipython3",
   "version": "3.12.0"
  }
 },
 "nbformat": 4,
 "nbformat_minor": 5
}
