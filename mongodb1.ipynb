{
 "cells": [
  {
   "cell_type": "code",
   "execution_count": 63,
   "id": "e363bf3d-f027-4c5c-a008-c607b04bb361",
   "metadata": {},
   "outputs": [
    {
     "name": "stdout",
     "output_type": "stream",
     "text": [
      "--------mongodb-------\n",
      "---------guvi--------\n"
     ]
    }
   ],
   "source": [
    "print(\"--------mongodb-------\\n---------guvi--------\")"
   ]
  },
  {
   "cell_type": "code",
   "execution_count": 1,
   "id": "93891670-d88c-4811-8465-5a7a65a03c85",
   "metadata": {},
   "outputs": [],
   "source": [
    "import pymongo"
   ]
  },
  {
   "cell_type": "code",
   "execution_count": 3,
   "id": "cddfba3e-d1ca-4fc3-8823-b28486d8b342",
   "metadata": {},
   "outputs": [],
   "source": [
    "# creating connection between jupyter notebook to mongodb\n",
    "connection = pymongo.MongoClient('mongodb://127.0.0.1:27017/')"
   ]
  },
  {
   "cell_type": "code",
   "execution_count": 4,
   "id": "978c384e-0c05-4e62-b760-1cf0f4deae36",
   "metadata": {},
   "outputs": [],
   "source": [
    "# table creation\n",
    "db = connection['SHOP']\n",
    "collection = db['stationary']"
   ]
  },
  {
   "cell_type": "code",
   "execution_count": 5,
   "id": "db7d11ba-d2ae-4f64-8674-badb195a0b9a",
   "metadata": {},
   "outputs": [
    {
     "data": {
      "text/plain": [
       "InsertOneResult(ObjectId('6671999d3c9a6d9fa89b4fb9'), acknowledged=True)"
      ]
     },
     "execution_count": 5,
     "metadata": {},
     "output_type": "execute_result"
    }
   ],
   "source": [
    "# insert one data\n",
    "data = {\n",
    "    'writer':'pencil',\n",
    "    'sketch':'colour pencil',\n",
    "    'book': \"school text book\",\n",
    "    \"note\": \"short notes\"\n",
    "}\n",
    "db.collection.insert_one(data)"
   ]
  },
  {
   "cell_type": "code",
   "execution_count": 6,
   "id": "fbeefab0-fcdc-4797-942b-29d348fb912a",
   "metadata": {},
   "outputs": [
    {
     "data": {
      "text/plain": [
       "InsertManyResult([ObjectId('66719ffb3c9a6d9fa89b4fba'), ObjectId('66719ffb3c9a6d9fa89b4fbb'), ObjectId('66719ffb3c9a6d9fa89b4fbc'), ObjectId('66719ffb3c9a6d9fa89b4fbd'), ObjectId('66719ffb3c9a6d9fa89b4fbe'), ObjectId('66719ffb3c9a6d9fa89b4fbf'), ObjectId('66719ffb3c9a6d9fa89b4fc0'), ObjectId('66719ffb3c9a6d9fa89b4fc1'), ObjectId('66719ffb3c9a6d9fa89b4fc2'), ObjectId('66719ffb3c9a6d9fa89b4fc3'), ObjectId('66719ffb3c9a6d9fa89b4fc4'), ObjectId('66719ffb3c9a6d9fa89b4fc5')], acknowledged=True)"
      ]
     },
     "execution_count": 6,
     "metadata": {},
     "output_type": "execute_result"
    }
   ],
   "source": [
    "#) inserting many data\n",
    "data = [\n",
    "    {'writer':'pen','sketch':'skyblue','book': \" the nature \",\"note\": \"king size notes \"},\n",
    "    {'writer':'ink pen','sketch':'black','book': \"class I \",\"note\": \"two lines\"},\n",
    "    {'writer':'ball point','sketch':'orange','book': \"class II \",\"note\": \"four lines\"},\n",
    "    {'writer':'pen','sketch':'red','book': \"class III\",\"note\": \"ruled rough note\"},\n",
    "    {'writer':'ink pen','sketch':'red','book': \"class IV \",\"note\": \"ruled note\"},\n",
    "    {'writer':'ball point','sketch':'black','book': \"class V \",\"note\": \"unruled note\"},\n",
    "    {'writer':'gel pen','sketch':'orange','book': \" class I\",\"note\": \"unruled note\"},\n",
    "    {'writer':'gel pen','sketch':'red','book': \"class II \",\"note\": \"ruled king size note \"},\n",
    "    {'writer':'ball point','sketch':'green','book': \"class III \",\"note\": \"ruled note\"},\n",
    "    {'writer':'refill','sketch':'green','book': \"class IV \",\"note\": \"ruled rough note\"},\n",
    "    {'writer':'refill','sketch':'yellow','book': \"class V \",\"note\": \"unruled note\"},\n",
    "    {'writer':'pen','sketch':'violet','book': \"class I \",\"note\": \"two lines\"},\n",
    "]\n",
    "db.collection.insert_many(data)"
   ]
  },
  {
   "cell_type": "code",
   "execution_count": 7,
   "id": "2243f05a-f30c-4bd9-979c-68a5dc7d0808",
   "metadata": {},
   "outputs": [
    {
     "name": "stdout",
     "output_type": "stream",
     "text": [
      "{'_id': ObjectId('6671999d3c9a6d9fa89b4fb9'), 'writer': 'pencil', 'sketch': 'colour pencil', 'book': 'school text book', 'note': 'short notes'}\n",
      "{'_id': ObjectId('66719ffb3c9a6d9fa89b4fba'), 'writer': 'pen', 'sketch': 'skyblue', 'book': ' the nature ', 'note': 'king size notes '}\n",
      "{'_id': ObjectId('66719ffb3c9a6d9fa89b4fbb'), 'writer': 'ink pen', 'sketch': 'black', 'book': 'class I ', 'note': 'two lines'}\n",
      "{'_id': ObjectId('66719ffb3c9a6d9fa89b4fbc'), 'writer': 'ball point', 'sketch': 'orange', 'book': 'class II ', 'note': 'four lines'}\n",
      "{'_id': ObjectId('66719ffb3c9a6d9fa89b4fbd'), 'writer': 'pen', 'sketch': 'red', 'book': 'class III', 'note': 'ruled rough note'}\n",
      "{'_id': ObjectId('66719ffb3c9a6d9fa89b4fbe'), 'writer': 'ink pen', 'sketch': 'red', 'book': 'class IV ', 'note': 'ruled note'}\n",
      "{'_id': ObjectId('66719ffb3c9a6d9fa89b4fbf'), 'writer': 'ball point', 'sketch': 'black', 'book': 'class V ', 'note': 'unruled note'}\n",
      "{'_id': ObjectId('66719ffb3c9a6d9fa89b4fc0'), 'writer': 'gel pen', 'sketch': 'orange', 'book': ' class I', 'note': 'unruled note'}\n",
      "{'_id': ObjectId('66719ffb3c9a6d9fa89b4fc1'), 'writer': 'gel pen', 'sketch': 'red', 'book': 'class II ', 'note': 'ruled king size note '}\n",
      "{'_id': ObjectId('66719ffb3c9a6d9fa89b4fc2'), 'writer': 'ball point', 'sketch': 'green', 'book': 'class III ', 'note': 'ruled note'}\n",
      "{'_id': ObjectId('66719ffb3c9a6d9fa89b4fc3'), 'writer': 'refill', 'sketch': 'green', 'book': 'class IV ', 'note': 'ruled rough note'}\n",
      "{'_id': ObjectId('66719ffb3c9a6d9fa89b4fc4'), 'writer': 'refill', 'sketch': 'yellow', 'book': 'class V ', 'note': 'unruled note'}\n",
      "{'_id': ObjectId('66719ffb3c9a6d9fa89b4fc5'), 'writer': 'pen', 'sketch': 'violet', 'book': 'class I ', 'note': 'two lines'}\n"
     ]
    }
   ],
   "source": [
    "#) to show the inserted doc\n",
    "for doc in db.collection.find():\n",
    "    print(doc)"
   ]
  },
  {
   "cell_type": "code",
   "execution_count": 11,
   "id": "aa8f2bad-9cf6-4daf-bcdf-85e3e96ae2b3",
   "metadata": {},
   "outputs": [
    {
     "name": "stdout",
     "output_type": "stream",
     "text": [
      "{'writer': 'pencil', 'sketch': 'colour pencil', 'book': 'school text book', 'note': 'short notes'}\n",
      "{'writer': 'pen', 'sketch': 'skyblue', 'book': ' the nature ', 'note': 'king size notes '}\n",
      "{'writer': 'ink pen', 'sketch': 'black', 'book': 'class I ', 'note': 'two lines'}\n",
      "{'writer': 'ball point', 'sketch': 'orange', 'book': 'class II ', 'note': 'four lines'}\n",
      "{'writer': 'pen', 'sketch': 'red', 'book': 'class III', 'note': 'ruled rough note'}\n",
      "{'writer': 'ink pen', 'sketch': 'red', 'book': 'class IV ', 'note': 'ruled note'}\n",
      "{'writer': 'ball point', 'sketch': 'black', 'book': 'class V ', 'note': 'unruled note'}\n",
      "{'writer': 'gel pen', 'sketch': 'orange', 'book': ' class I', 'note': 'unruled note'}\n",
      "{'writer': 'gel pen', 'sketch': 'red', 'book': 'class II ', 'note': 'ruled king size note '}\n",
      "{'writer': 'ball point', 'sketch': 'green', 'book': 'class III ', 'note': 'ruled note'}\n",
      "{'writer': 'refill', 'sketch': 'green', 'book': 'class IV ', 'note': 'ruled rough note'}\n",
      "{'writer': 'refill', 'sketch': 'yellow', 'book': 'class V ', 'note': 'unruled note'}\n",
      "{'writer': 'pen', 'sketch': 'violet', 'book': 'class I ', 'note': 'two lines'}\n"
     ]
    }
   ],
   "source": [
    "#) not diplaying one column\n",
    "for doc in db.collection.find({},{'_id':0}):\n",
    "    print(doc)"
   ]
  },
  {
   "cell_type": "code",
   "execution_count": 13,
   "id": "ee90e2b8-5f55-431a-929b-122265c0eb34",
   "metadata": {},
   "outputs": [
    {
     "name": "stdout",
     "output_type": "stream",
     "text": [
      "{'sketch': 'colour pencil', 'book': 'school text book', 'note': 'short notes'}\n",
      "{'sketch': 'skyblue', 'book': ' the nature ', 'note': 'king size notes '}\n",
      "{'sketch': 'black', 'book': 'class I ', 'note': 'two lines'}\n",
      "{'sketch': 'orange', 'book': 'class II ', 'note': 'four lines'}\n",
      "{'sketch': 'red', 'book': 'class III', 'note': 'ruled rough note'}\n",
      "{'sketch': 'red', 'book': 'class IV ', 'note': 'ruled note'}\n",
      "{'sketch': 'black', 'book': 'class V ', 'note': 'unruled note'}\n",
      "{'sketch': 'orange', 'book': ' class I', 'note': 'unruled note'}\n",
      "{'sketch': 'red', 'book': 'class II ', 'note': 'ruled king size note '}\n",
      "{'sketch': 'green', 'book': 'class III ', 'note': 'ruled note'}\n",
      "{'sketch': 'green', 'book': 'class IV ', 'note': 'ruled rough note'}\n",
      "{'sketch': 'yellow', 'book': 'class V ', 'note': 'unruled note'}\n",
      "{'sketch': 'violet', 'book': 'class I ', 'note': 'two lines'}\n"
     ]
    }
   ],
   "source": [
    "#) not diplaying two column\n",
    "for doc in db.collection.find({},{'_id':0,'writer':0}):\n",
    "    print(doc)"
   ]
  },
  {
   "cell_type": "code",
   "execution_count": 14,
   "id": "dd67135a-27a5-468b-ae52-f471470963bf",
   "metadata": {},
   "outputs": [
    {
     "name": "stdout",
     "output_type": "stream",
     "text": [
      "{'book': 'school text book', 'note': 'short notes'}\n",
      "{'book': ' the nature ', 'note': 'king size notes '}\n",
      "{'book': 'class I ', 'note': 'two lines'}\n",
      "{'book': 'class II ', 'note': 'four lines'}\n",
      "{'book': 'class III', 'note': 'ruled rough note'}\n",
      "{'book': 'class IV ', 'note': 'ruled note'}\n",
      "{'book': 'class V ', 'note': 'unruled note'}\n",
      "{'book': ' class I', 'note': 'unruled note'}\n",
      "{'book': 'class II ', 'note': 'ruled king size note '}\n",
      "{'book': 'class III ', 'note': 'ruled note'}\n",
      "{'book': 'class IV ', 'note': 'ruled rough note'}\n",
      "{'book': 'class V ', 'note': 'unruled note'}\n",
      "{'book': 'class I ', 'note': 'two lines'}\n"
     ]
    }
   ],
   "source": [
    "#) not diplaying three column\n",
    "for doc in db.collection.find({},{'_id':0,'writer':0,'sketch':0}):\n",
    "    print(doc)"
   ]
  },
  {
   "cell_type": "code",
   "execution_count": 16,
   "id": "2f8b363b-0f80-4c31-810e-d232e2d99b14",
   "metadata": {},
   "outputs": [
    {
     "name": "stdout",
     "output_type": "stream",
     "text": [
      "{'book': 'school text book'}\n",
      "{'book': ' the nature '}\n",
      "{'book': 'class I '}\n",
      "{'book': 'class II '}\n",
      "{'book': 'class III'}\n",
      "{'book': 'class IV '}\n",
      "{'book': 'class V '}\n",
      "{'book': ' class I'}\n",
      "{'book': 'class II '}\n",
      "{'book': 'class III '}\n",
      "{'book': 'class IV '}\n",
      "{'book': 'class V '}\n",
      "{'book': 'class I '}\n"
     ]
    }
   ],
   "source": [
    "#) diplaying one column\n",
    "for doc in db.collection.find({},{'_id':0,'book':1}):\n",
    "    print(doc)"
   ]
  },
  {
   "cell_type": "code",
   "execution_count": 18,
   "id": "cac0ce9e-50ad-4edf-943e-a39069ad1108",
   "metadata": {},
   "outputs": [
    {
     "name": "stdout",
     "output_type": "stream",
     "text": [
      "{'sketch': 'colour pencil', 'book': 'school text book'}\n",
      "{'sketch': 'skyblue', 'book': ' the nature '}\n",
      "{'sketch': 'black', 'book': 'class I '}\n",
      "{'sketch': 'orange', 'book': 'class II '}\n",
      "{'sketch': 'red', 'book': 'class III'}\n",
      "{'sketch': 'red', 'book': 'class IV '}\n",
      "{'sketch': 'black', 'book': 'class V '}\n",
      "{'sketch': 'orange', 'book': ' class I'}\n",
      "{'sketch': 'red', 'book': 'class II '}\n",
      "{'sketch': 'green', 'book': 'class III '}\n",
      "{'sketch': 'green', 'book': 'class IV '}\n",
      "{'sketch': 'yellow', 'book': 'class V '}\n",
      "{'sketch': 'violet', 'book': 'class I '}\n"
     ]
    }
   ],
   "source": [
    "#) diplaying two column\n",
    "for doc in db.collection.find({},{'_id':0,'sketch':1,'book':1}):\n",
    "    print(doc)"
   ]
  },
  {
   "cell_type": "code",
   "execution_count": 19,
   "id": "b92e4dbf-ac1d-491a-9873-2a6f124ff5fe",
   "metadata": {},
   "outputs": [
    {
     "name": "stdout",
     "output_type": "stream",
     "text": [
      "{'sketch': 'black'}\n",
      "{'sketch': 'black'}\n"
     ]
    }
   ],
   "source": [
    "#) taking one particular data and displaying one one column\n",
    "for doc in db.collection.find({'sketch':'black'},{'sketch': 1,'_id':0}):\n",
    "    print(doc)"
   ]
  },
  {
   "cell_type": "code",
   "execution_count": 21,
   "id": "52441d89-5a07-4c80-90b9-9c6eb8318158",
   "metadata": {},
   "outputs": [
    {
     "name": "stdout",
     "output_type": "stream",
     "text": [
      "{'sketch': 'red', 'book': 'class III'}\n",
      "{'sketch': 'red', 'book': 'class IV '}\n",
      "{'sketch': 'red', 'book': 'class II '}\n"
     ]
    }
   ],
   "source": [
    "#) taking one particular data and displaying two column\n",
    "for doc in db.collection.find({'sketch':'red'},{'sketch': 1,'book':1,'_id':0}):\n",
    "    print(doc)"
   ]
  },
  {
   "cell_type": "code",
   "execution_count": 23,
   "id": "cb59b6a4-ca79-4767-802f-46031c0e8cb0",
   "metadata": {},
   "outputs": [
    {
     "name": "stdout",
     "output_type": "stream",
     "text": [
      "{'sketch': 'orange', 'book': ' class I', 'note': 'unruled note'}\n"
     ]
    }
   ],
   "source": [
    "#) taking two particular column data of the same row and displaying two column\n",
    "for doc in db.collection.find({'sketch':'orange','book': ' class I'},{'sketch': 1,'note': 1,'book':1,'_id':0}):\n",
    "    print(doc)"
   ]
  },
  {
   "cell_type": "code",
   "execution_count": 24,
   "id": "61c7dac2-ea6a-4a16-b3f7-aece0395fa93",
   "metadata": {},
   "outputs": [
    {
     "name": "stdout",
     "output_type": "stream",
     "text": [
      "{'writer': 'gel pen', 'sketch': 'orange', 'book': ' class I', 'note': 'unruled note'}\n"
     ]
    }
   ],
   "source": [
    "#)$and\n",
    "condition = {'$and':[{'sketch':'orange'},{'note': 'unruled note'}]}\n",
    "for doc in db.collection.find(condition,{'_id':0}):\n",
    "    print(doc)"
   ]
  },
  {
   "cell_type": "code",
   "execution_count": 25,
   "id": "1211f620-c1fe-40d4-ac10-faca853ab9b7",
   "metadata": {},
   "outputs": [
    {
     "name": "stdout",
     "output_type": "stream",
     "text": [
      "{'writer': 'ball point', 'sketch': 'green', 'book': 'class III ', 'note': 'ruled note'}\n"
     ]
    }
   ],
   "source": [
    "#)$and\n",
    "condition = {'$and':[{'writer': 'ball point'},{'note': 'ruled note'}]}\n",
    "for doc in db.collection.find(condition,{'_id':0}):\n",
    "    print(doc)"
   ]
  },
  {
   "cell_type": "code",
   "execution_count": 27,
   "id": "678d0744-cd94-4554-b09d-658f8446076b",
   "metadata": {},
   "outputs": [
    {
     "name": "stdout",
     "output_type": "stream",
     "text": [
      "{'writer': 'pencil', 'sketch': 'colour pencil', 'book': 'school text book', 'note': 'short notes'}\n",
      "{'writer': 'ink pen', 'sketch': 'black', 'book': 'class I ', 'note': 'two lines'}\n",
      "{'writer': 'pen', 'sketch': 'violet', 'book': 'class I ', 'note': 'two lines'}\n"
     ]
    }
   ],
   "source": [
    "#)$or\n",
    "condition = {'$or':[{'writer': 'pencil'},{'note': 'two lines'}]}\n",
    "for doc in db.collection.find(condition,{'_id':0}):\n",
    "    print(doc)"
   ]
  },
  {
   "cell_type": "code",
   "execution_count": null,
   "id": "4d47a082-5041-463c-801d-32e05eb73a1b",
   "metadata": {},
   "outputs": [],
   "source": [
    "#)$or\n",
    "condition = {'$or':[{'sketch': 'green'},{'note': 'unruled note'}]}\n",
    "for doc in db.collection.find(condition,{'_id':0}):\n",
    "    print(doc)"
   ]
  },
  {
   "cell_type": "code",
   "execution_count": 26,
   "id": "78960bf9-8ca8-444c-a531-7d37ecdbe973",
   "metadata": {},
   "outputs": [
    {
     "name": "stdout",
     "output_type": "stream",
     "text": [
      "{'writer': 'pencil', 'sketch': 'colour pencil', 'book': 'school text book', 'note': 'short notes'}\n",
      "{'writer': 'pen', 'sketch': 'skyblue', 'book': ' the nature ', 'note': 'king size notes '}\n",
      "{'writer': 'ink pen', 'sketch': 'black', 'book': 'class I ', 'note': 'two lines'}\n",
      "{'writer': 'ball point', 'sketch': 'orange', 'book': 'class II ', 'note': 'four lines'}\n",
      "{'writer': 'pen', 'sketch': 'red', 'book': 'class III', 'note': 'ruled rough note'}\n",
      "{'writer': 'ink pen', 'sketch': 'red', 'book': 'class IV ', 'note': 'ruled note'}\n",
      "{'writer': 'ball point', 'sketch': 'black', 'book': 'class V ', 'note': 'unruled note'}\n",
      "{'writer': 'gel pen', 'sketch': 'orange', 'book': ' class I', 'note': 'unruled note'}\n",
      "{'writer': 'gel pen', 'sketch': 'red', 'book': 'class II ', 'note': 'ruled king size note '}\n",
      "{'writer': 'ball point', 'sketch': 'green', 'book': 'class III ', 'note': 'ruled note'}\n",
      "{'writer': 'refill', 'sketch': 'green', 'book': 'class IV ', 'note': 'ruled rough note'}\n",
      "{'writer': 'refill', 'sketch': 'yellow', 'book': 'class V ', 'note': 'unruled note'}\n",
      "{'writer': 'pen', 'sketch': 'violet', 'book': 'class I ', 'note': 'two lines'}\n"
     ]
    }
   ],
   "source": [
    "#) not diplaying one column\n",
    "for doc in db.collection.find({},{'_id':0}):\n",
    "    print(doc)"
   ]
  },
  {
   "cell_type": "code",
   "execution_count": 29,
   "id": "4b3fdc03-670c-40f4-8055-256f3d43b4d4",
   "metadata": {},
   "outputs": [
    {
     "name": "stdout",
     "output_type": "stream",
     "text": [
      "{'writer': 'pencil'}\n",
      "{'writer': 'pens'}\n",
      "{'writer': 'ink pen'}\n",
      "{'writer': 'ball point'}\n",
      "{'writer': 'pen'}\n",
      "{'writer': 'ink pen'}\n",
      "{'writer': 'ball point'}\n",
      "{'writer': 'gel pen'}\n",
      "{'writer': 'gel pen'}\n",
      "{'writer': 'ball point'}\n",
      "{'writer': 'refill'}\n",
      "{'writer': 'refill'}\n",
      "{'writer': 'pen'}\n"
     ]
    }
   ],
   "source": [
    "#) replacing a particular row data with updating one row data\n",
    "old = {'writer': 'pen'}\n",
    "new = {'$set':{'writer': 'pens'}}\n",
    "\n",
    "db.collection.update_one(old,new)\n",
    "for doc in db.collection.find({},{'_id':0,'writer':1}):\n",
    "    print(doc)"
   ]
  },
  {
   "cell_type": "code",
   "execution_count": 30,
   "id": "6e7af707-f74e-48d2-b441-5d7ffb479ed7",
   "metadata": {},
   "outputs": [
    {
     "name": "stdout",
     "output_type": "stream",
     "text": [
      "{'note': 'short notes'}\n",
      "{'note': 'king size notes '}\n",
      "{'note': 'two-lines'}\n",
      "{'note': 'four lines'}\n",
      "{'note': 'ruled rough note'}\n",
      "{'note': 'ruled note'}\n",
      "{'note': 'unruled note'}\n",
      "{'note': 'unruled note'}\n",
      "{'note': 'ruled king size note '}\n",
      "{'note': 'ruled note'}\n",
      "{'note': 'ruled rough note'}\n",
      "{'note': 'unruled note'}\n",
      "{'note': 'two-lines'}\n"
     ]
    }
   ],
   "source": [
    "#) replacing a particular row data with updating with many row data\n",
    "old = {'note': 'two lines'}\n",
    "new = {'$set':{'note': 'two-lines'}}\n",
    "\n",
    "db.collection.update_many(old,new)\n",
    "for doc in db.collection.find({},{'_id':0,'note':1}):\n",
    "    print(doc)"
   ]
  },
  {
   "cell_type": "code",
   "execution_count": 39,
   "id": "886ecf2e-9017-46f0-9202-804beb6af1e3",
   "metadata": {},
   "outputs": [
    {
     "name": "stdout",
     "output_type": "stream",
     "text": [
      "{'writer': 'pencil', 'sketch': 'colour pencil', 'book': 'school text book', 'note': 'short notes'}\n",
      "{'writer': 'pens', 'sketch': 'skyblue', 'book': ' the nature ', 'note': 'king size notes '}\n",
      "{'writer': 'ink pen', 'sketch': 'black', 'book': 'class I ', 'note': 'two-lines'}\n",
      "{'writer': 'ball point', 'sketch': 'orange', 'book': 'class II ', 'note': 'four lines'}\n",
      "{'writer': 'pen', 'sketch': 'red', 'book': 'class III', 'note': 'ruled rough note'}\n",
      "{'writer': 'ink pen', 'sketch': 'red', 'book': 'class IV ', 'note': 'ruled note'}\n",
      "{'writer': 'ball point', 'sketch': 'black', 'book': 'class V ', 'note': 'unruled note'}\n",
      "{'writer': 'gel pen', 'sketch': 'orange', 'book': ' class I', 'note': 'unruled note'}\n",
      "{'writer': 'gel pen', 'sketch': 'red', 'book': 'class II ', 'note': 'ruled king size note '}\n",
      "{'writer': 'ball point', 'sketch': 'green', 'book': 'class III ', 'note': 'ruled note'}\n",
      "{'writer': 'refill', 'sketch': 'green', 'book': 'class IV ', 'note': 'ruled rough note'}\n",
      "{'writer': 'refill', 'sketch': 'yellow', 'book': 'class V ', 'note': 'unruled note'}\n",
      "{'writer': 'pen', 'sketch': 'violet', 'book': 'class I ', 'note': 'two-lines'}\n"
     ]
    }
   ],
   "source": [
    "#) remove a column for the particular row data\n",
    "old = {'writer': 'pencil'}\n",
    "new = {'$unset':{ 'note': 1}}\n",
    "\n",
    "collection.update_one(old,new)\n",
    "for doc in db.collection.find({},{'_id':0}):\n",
    "    print(doc)"
   ]
  },
  {
   "cell_type": "code",
   "execution_count": 40,
   "id": "a5ece3b0-084b-44b1-9cee-5ac84de239c0",
   "metadata": {},
   "outputs": [
    {
     "name": "stdout",
     "output_type": "stream",
     "text": [
      "{'writer': 'pencil', 'sketch': 'colour pencil', 'book': 'school text book', 'note': 'short notes'}\n",
      "{'writer': 'pens', 'sketch': 'skyblue', 'book': ' the nature ', 'note': 'king size notes '}\n",
      "{'writer': 'ink pen', 'sketch': 'black', 'book': 'class I ', 'note': 'two-lines'}\n",
      "{'writer': 'ball point', 'sketch': 'orange', 'book': 'class II ', 'note': 'four lines'}\n",
      "{'writer': 'pen', 'sketch': 'red', 'book': 'class III', 'note': 'ruled rough note'}\n",
      "{'writer': 'ink pen', 'sketch': 'red', 'book': 'class IV ', 'note': 'ruled note'}\n",
      "{'writer': 'ball point', 'sketch': 'black', 'book': 'class V ', 'note': 'unruled note'}\n",
      "{'writer': 'gel pen', 'sketch': 'orange', 'book': ' class I', 'note': 'unruled note'}\n",
      "{'writer': 'gel pen', 'sketch': 'red', 'book': 'class II ', 'note': 'ruled king size note '}\n",
      "{'writer': 'ball point', 'sketch': 'green', 'book': 'class III ', 'note': 'ruled note'}\n",
      "{'writer': 'refill', 'sketch': 'green', 'book': 'class IV ', 'note': 'ruled rough note'}\n",
      "{'writer': 'refill', 'sketch': 'yellow', 'book': 'class V ', 'note': 'unruled note'}\n",
      "{'writer': 'pen', 'sketch': 'violet', 'book': 'class I ', 'note': 'two-lines'}\n"
     ]
    }
   ],
   "source": []
  },
  {
   "cell_type": "code",
   "execution_count": 44,
   "id": "8234f10f-e8de-4ada-b808-3e777f121e0a",
   "metadata": {},
   "outputs": [
    {
     "name": "stdout",
     "output_type": "stream",
     "text": [
      "{'_id': ObjectId('6671999d3c9a6d9fa89b4fb9'), 'writer': 'pencil', 'sketch': 'colour pencil', 'book': 'school text book', 'note': 'short notes'}\n",
      "{'_id': ObjectId('66719ffb3c9a6d9fa89b4fba'), 'writer': 'pens', 'sketch': 'skyblue', 'book': ' the nature ', 'note': 'king size notes '}\n",
      "{'_id': ObjectId('66719ffb3c9a6d9fa89b4fbb'), 'writer': 'ink pen', 'sketch': 'black', 'book': 'class I ', 'note': 'two-lines'}\n",
      "{'_id': ObjectId('66719ffb3c9a6d9fa89b4fbc'), 'writer': 'ball point', 'sketch': 'orange', 'book': 'class II ', 'note': 'four lines'}\n",
      "{'_id': ObjectId('66719ffb3c9a6d9fa89b4fbd'), 'writer': 'pen', 'sketch': 'red', 'book': 'class III', 'note': 'ruled rough note'}\n",
      "{'_id': ObjectId('66719ffb3c9a6d9fa89b4fbe'), 'writer': 'ink pen', 'sketch': 'red', 'book': 'class IV ', 'note': 'ruled note'}\n",
      "{'_id': ObjectId('66719ffb3c9a6d9fa89b4fbf'), 'writer': 'ball point', 'sketch': 'black', 'book': 'class V ', 'note': 'unruled note'}\n",
      "{'_id': ObjectId('66719ffb3c9a6d9fa89b4fc0'), 'writer': 'gel pen', 'sketch': 'orange', 'book': ' class I', 'note': 'unruled note'}\n",
      "{'_id': ObjectId('66719ffb3c9a6d9fa89b4fc1'), 'writer': 'gel pen', 'sketch': 'red', 'book': 'class II ', 'note': 'ruled king size note '}\n",
      "{'_id': ObjectId('66719ffb3c9a6d9fa89b4fc2'), 'writer': 'ball point', 'sketch': 'green', 'book': 'class III ', 'note': 'ruled note'}\n",
      "{'_id': ObjectId('66719ffb3c9a6d9fa89b4fc3'), 'writer': 'refill', 'sketch': 'green', 'book': 'class IV ', 'note': 'ruled rough note'}\n",
      "{'_id': ObjectId('66719ffb3c9a6d9fa89b4fc4'), 'writer': 'refill', 'sketch': 'yellow', 'book': 'class V ', 'note': 'unruled note'}\n",
      "{'_id': ObjectId('66719ffb3c9a6d9fa89b4fc5'), 'writer': 'pen', 'sketch': 'violet', 'book': 'class I ', 'note': 'two-lines'}\n"
     ]
    }
   ],
   "source": [
    "for doc in db.collection.find():\n",
    "    print(doc)"
   ]
  },
  {
   "cell_type": "code",
   "execution_count": 55,
   "id": "87b982c2-0523-470e-8e10-3133f99ff8c1",
   "metadata": {},
   "outputs": [
    {
     "name": "stdout",
     "output_type": "stream",
     "text": [
      "{'_id': ObjectId('6671999d3c9a6d9fa89b4fb9'), 'writer': 'pencil', 'sketch': 'colour pencil', 'book': 'school text book', 'note': 'short notes'}\n",
      "{'_id': ObjectId('66719ffb3c9a6d9fa89b4fba'), 'writer': 'pens', 'sketch': 'skyblue', 'book': ' the nature ', 'note': 'king size notes '}\n",
      "{'_id': ObjectId('66719ffb3c9a6d9fa89b4fbb'), 'writer': 'ink pen', 'sketch': 'black', 'book': 'class I ', 'note': 'two-lines'}\n",
      "{'_id': ObjectId('66719ffb3c9a6d9fa89b4fbc'), 'writer': 'ball point', 'sketch': 'orange', 'book': 'class II ', 'note': 'four lines'}\n",
      "{'_id': ObjectId('66719ffb3c9a6d9fa89b4fbe'), 'writer': 'ink pen', 'sketch': 'red', 'book': 'class IV ', 'note': 'ruled note'}\n",
      "{'_id': ObjectId('66719ffb3c9a6d9fa89b4fbf'), 'writer': 'ball point', 'sketch': 'black', 'book': 'class V ', 'note': 'unruled note'}\n",
      "{'_id': ObjectId('66719ffb3c9a6d9fa89b4fc0'), 'writer': 'gel pen', 'sketch': 'orange', 'book': ' class I', 'note': 'unruled note'}\n",
      "{'_id': ObjectId('66719ffb3c9a6d9fa89b4fc1'), 'writer': 'gel pen', 'sketch': 'red', 'book': 'class II ', 'note': 'ruled king size note '}\n",
      "{'_id': ObjectId('66719ffb3c9a6d9fa89b4fc2'), 'writer': 'ball point', 'sketch': 'green', 'book': 'class III ', 'note': 'ruled note'}\n",
      "{'_id': ObjectId('66719ffb3c9a6d9fa89b4fc3'), 'writer': 'refill', 'sketch': 'green', 'book': 'class IV ', 'note': 'ruled rough note'}\n",
      "{'_id': ObjectId('66719ffb3c9a6d9fa89b4fc4'), 'writer': 'refill', 'sketch': 'yellow', 'book': 'class V ', 'note': 'unruled note'}\n",
      "{'_id': ObjectId('66719ffb3c9a6d9fa89b4fc5'), 'writer': 'pen', 'sketch': 'violet', 'book': 'class I ', 'note': 'two-lines'}\n"
     ]
    }
   ],
   "source": [
    "#) delete one \n",
    "condition ={'writer': 'pen'}\n",
    "db.collection.delete_one(condition)\n",
    "for doc in db.collection.find():\n",
    "    print(doc)"
   ]
  },
  {
   "cell_type": "code",
   "execution_count": 56,
   "id": "9049fe8d-605f-4c9d-9d62-836586db1a58",
   "metadata": {},
   "outputs": [
    {
     "name": "stdout",
     "output_type": "stream",
     "text": [
      "{'_id': ObjectId('6671999d3c9a6d9fa89b4fb9'), 'writer': 'pencil', 'sketch': 'colour pencil', 'book': 'school text book', 'note': 'short notes'}\n",
      "{'_id': ObjectId('66719ffb3c9a6d9fa89b4fba'), 'writer': 'pens', 'sketch': 'skyblue', 'book': ' the nature ', 'note': 'king size notes '}\n",
      "{'_id': ObjectId('66719ffb3c9a6d9fa89b4fbb'), 'writer': 'ink pen', 'sketch': 'black', 'book': 'class I ', 'note': 'two-lines'}\n",
      "{'_id': ObjectId('66719ffb3c9a6d9fa89b4fbc'), 'writer': 'ball point', 'sketch': 'orange', 'book': 'class II ', 'note': 'four lines'}\n",
      "{'_id': ObjectId('66719ffb3c9a6d9fa89b4fbe'), 'writer': 'ink pen', 'sketch': 'red', 'book': 'class IV ', 'note': 'ruled note'}\n",
      "{'_id': ObjectId('66719ffb3c9a6d9fa89b4fbf'), 'writer': 'ball point', 'sketch': 'black', 'book': 'class V ', 'note': 'unruled note'}\n",
      "{'_id': ObjectId('66719ffb3c9a6d9fa89b4fc2'), 'writer': 'ball point', 'sketch': 'green', 'book': 'class III ', 'note': 'ruled note'}\n",
      "{'_id': ObjectId('66719ffb3c9a6d9fa89b4fc3'), 'writer': 'refill', 'sketch': 'green', 'book': 'class IV ', 'note': 'ruled rough note'}\n",
      "{'_id': ObjectId('66719ffb3c9a6d9fa89b4fc4'), 'writer': 'refill', 'sketch': 'yellow', 'book': 'class V ', 'note': 'unruled note'}\n",
      "{'_id': ObjectId('66719ffb3c9a6d9fa89b4fc5'), 'writer': 'pen', 'sketch': 'violet', 'book': 'class I ', 'note': 'two-lines'}\n"
     ]
    }
   ],
   "source": [
    "#) delete many\n",
    "condition ={'writer': 'gel pen'}\n",
    "db.collection.delete_many(condition)\n",
    "for doc in db.collection.find():\n",
    "    print(doc)"
   ]
  },
  {
   "cell_type": "code",
   "execution_count": 57,
   "id": "7a5fdca4-90ab-4090-954c-a6575f0a5dc1",
   "metadata": {},
   "outputs": [
    {
     "name": "stdout",
     "output_type": "stream",
     "text": [
      "{'writer': 'pencil', 'sketch': 'colour pencil', 'book': 'school text book', 'note': 'short notes'}\n",
      "{'writer': 'pens', 'sketch': 'skyblue', 'book': ' the nature ', 'note': 'king size notes '}\n",
      "{'writer': 'ink pen', 'sketch': 'black', 'book': 'class I ', 'note': 'two-lines'}\n",
      "{'writer': 'ball point', 'sketch': 'orange', 'book': 'class II ', 'note': 'four lines'}\n",
      "{'writer': 'ink pen', 'sketch': 'red', 'book': 'class IV ', 'note': 'ruled note'}\n",
      "{'writer': 'ball point', 'sketch': 'black', 'book': 'class V ', 'note': 'unruled note'}\n",
      "{'writer': 'ball point', 'sketch': 'green', 'book': 'class III ', 'note': 'ruled note'}\n",
      "{'writer': 'refill', 'sketch': 'green', 'book': 'class IV ', 'note': 'ruled rough note', 'map': 'continent'}\n",
      "{'writer': 'refill', 'sketch': 'yellow', 'book': 'class V ', 'note': 'unruled note'}\n",
      "{'writer': 'pen', 'sketch': 'violet', 'book': 'class I ', 'note': 'two-lines'}\n"
     ]
    }
   ],
   "source": [
    "#) update one\n",
    "old = {'writer': 'refill'}\n",
    "new = {'$set':{ 'map': \"continent\"}}\n",
    "\n",
    "db.collection.update_one(old,new)\n",
    "for doc in db.collection.find({},{'_id':0}):\n",
    "    print(doc)"
   ]
  },
  {
   "cell_type": "code",
   "execution_count": 60,
   "id": "d36a4064-fe27-4487-b618-dd1c6353b7ff",
   "metadata": {},
   "outputs": [
    {
     "name": "stdout",
     "output_type": "stream",
     "text": [
      "{'writer': 'pencil', 'sketch': 'colour pencil', 'book': 'school text book', 'note': 'short notes'}\n",
      "{'writer': 'pens', 'sketch': 'skyblue', 'book': ' the nature ', 'note': 'king size notes '}\n",
      "{'writer': 'ink pen', 'sketch': 'black', 'book': 'class I ', 'note': 'two-lines', 'map': 'world'}\n",
      "{'writer': 'ball point', 'sketch': 'orange', 'book': 'class II ', 'note': 'four lines'}\n",
      "{'writer': 'ink pen', 'sketch': 'red', 'book': 'class IV ', 'note': 'ruled note'}\n",
      "{'writer': 'ball point', 'sketch': 'black', 'book': 'class V ', 'note': 'unruled note'}\n",
      "{'writer': 'ball point', 'sketch': 'green', 'book': 'class III ', 'note': 'ruled note'}\n",
      "{'writer': 'refill', 'sketch': 'green', 'book': 'class IV ', 'note': 'ruled rough note', 'map': 'continent'}\n",
      "{'writer': 'refill', 'sketch': 'yellow', 'book': 'class V ', 'note': 'unruled note'}\n",
      "{'writer': 'pen', 'sketch': 'violet', 'book': 'class I ', 'note': 'two-lines'}\n"
     ]
    }
   ],
   "source": [
    "#) update one\n",
    "old = {'note': 'two-lines'}\n",
    "new = {'$set':{ 'map': \"world\"}}\n",
    "\n",
    "db.collection.update_one(old,new)\n",
    "for doc in db.collection.find({},{'_id':0}):\n",
    "    print(doc)"
   ]
  },
  {
   "cell_type": "code",
   "execution_count": 61,
   "id": "e3ff0b04-9fdd-4484-ad52-440b49deae27",
   "metadata": {},
   "outputs": [
    {
     "name": "stdout",
     "output_type": "stream",
     "text": [
      "{'writer': 'pencil', 'sketch': 'colour pencil', 'book': 'school text book', 'note': 'short notes'}\n",
      "{'writer': 'pens', 'sketch': 'skyblue', 'book': ' the nature ', 'note': 'king size notes '}\n",
      "{'writer': 'ink pen', 'sketch': 'black', 'book': 'class I ', 'note': 'two-lines', 'map': 'world'}\n",
      "{'writer': 'ball point', 'sketch': 'orange', 'book': 'class II ', 'note': 'four lines'}\n",
      "{'writer': 'ink pen', 'sketch': 'red', 'book': 'class IV ', 'note': 'ruled note'}\n",
      "{'writer': 'ball point', 'sketch': 'black', 'book': 'class V ', 'note': 'unruled note'}\n",
      "{'writer': 'ball point', 'sketch': 'green', 'book': 'class III ', 'note': 'ruled note', 'map': 'world'}\n",
      "{'writer': 'refill', 'sketch': 'green', 'book': 'class IV ', 'note': 'ruled rough note', 'map': 'world'}\n",
      "{'writer': 'refill', 'sketch': 'yellow', 'book': 'class V ', 'note': 'unruled note'}\n",
      "{'writer': 'pen', 'sketch': 'violet', 'book': 'class I ', 'note': 'two-lines'}\n"
     ]
    }
   ],
   "source": [
    "#) update many\n",
    "old = {'sketch': 'green'}\n",
    "new = {'$set':{ 'map': \"world\"}}\n",
    "\n",
    "db.collection.update_many(old,new)\n",
    "for doc in db.collection.find({},{'_id':0}):\n",
    "    print(doc)"
   ]
  }
 ],
 "metadata": {
  "kernelspec": {
   "display_name": "Python 3 (ipykernel)",
   "language": "python",
   "name": "python3"
  },
  "language_info": {
   "codemirror_mode": {
    "name": "ipython",
    "version": 3
   },
   "file_extension": ".py",
   "mimetype": "text/x-python",
   "name": "python",
   "nbconvert_exporter": "python",
   "pygments_lexer": "ipython3",
   "version": "3.12.0"
  }
 },
 "nbformat": 4,
 "nbformat_minor": 5
}
