{
 "cells": [
  {
   "cell_type": "code",
   "execution_count": 1,
   "id": "afa54699-c37c-46ff-8459-f9e942ca717c",
   "metadata": {},
   "outputs": [
    {
     "name": "stdout",
     "output_type": "stream",
     "text": [
      "title: cumulative test prepration - python basics - 2 \n",
      "\\guvi\\\n"
     ]
    }
   ],
   "source": [
    "#)title\n",
    "print(\"title: cumulative test prepration - python basics - 2 \\n\\\\guvi\\\\\")"
   ]
  },
  {
   "cell_type": "code",
   "execution_count": 2,
   "id": "0c56d7db-dfb1-4f8d-b70a-a021b390a761",
   "metadata": {},
   "outputs": [
    {
     "name": "stdout",
     "output_type": "stream",
     "text": [
      "1\n",
      "2\n",
      "3\n",
      "4\n",
      "5\n",
      "6\n",
      "7\n",
      "8\n"
     ]
    }
   ],
   "source": [
    "#) for loop\n",
    "list_number = [1,2,3,4,5,6,7,8]\n",
    "for number in list_number:\n",
    "    print(number)"
   ]
  },
  {
   "cell_type": "code",
   "execution_count": 3,
   "id": "cf05cf17-0419-4d73-aa2e-a358063c7be6",
   "metadata": {},
   "outputs": [
    {
     "name": "stdout",
     "output_type": "stream",
     "text": [
      "['a', 'b', 'p', 'g', 'g']\n"
     ]
    }
   ],
   "source": [
    "#) for loop with list\n",
    "letter_list = []\n",
    "fruits_list = ['apple','banana','pappaya','guva','grapes']\n",
    "for fruit in fruits_list:\n",
    "    first_letter = fruit[0]\n",
    "    letter_list.append(first_letter)\n",
    "print(letter_list)"
   ]
  },
  {
   "cell_type": "code",
   "execution_count": 4,
   "id": "8a233c44-2da5-4dab-bde9-09a5ba4e2636",
   "metadata": {},
   "outputs": [
    {
     "name": "stdout",
     "output_type": "stream",
     "text": [
      "2\n",
      "3\n",
      "4\n",
      "5\n",
      "6\n",
      "7\n",
      "8\n",
      "9\n",
      "10\n"
     ]
    }
   ],
   "source": [
    "#)while loop\n",
    "num = 2\n",
    "while num <= 10:\n",
    "    print(num)\n",
    "    num+=1"
   ]
  },
  {
   "cell_type": "code",
   "execution_count": 1,
   "id": "630f6f6e-3aef-4359-8cf4-72b137d82d40",
   "metadata": {},
   "outputs": [
    {
     "name": "stdout",
     "output_type": "stream",
     "text": [
      "225\n"
     ]
    }
   ],
   "source": [
    "#) userdefined function\n",
    "def calculateArea(diameter):\n",
    "    area = diameter**2\n",
    "    return area\n",
    "\n",
    "#) function call\n",
    "user_area = calculateArea (diameter = 15)\n",
    "print(user_area)"
   ]
  },
  {
   "cell_type": "code",
   "execution_count": 18,
   "id": "bbd83909-a544-4b8d-9503-6c7601ce70a3",
   "metadata": {},
   "outputs": [
    {
     "name": "stdin",
     "output_type": "stream",
     "text": [
      "Enter the length: 21\n"
     ]
    },
    {
     "name": "stdout",
     "output_type": "stream",
     "text": [
      "9261\n"
     ]
    }
   ],
   "source": [
    "#) mapping 2 user functions:\n",
    "def inputValues():\n",
    "    user_length = int (input(\"Enter the length:\"))\n",
    "    return user_length\n",
    "\n",
    "def calculateSquare (length):\n",
    "    vol = length**3\n",
    "    return vol\n",
    "\n",
    "length = inputValues()\n",
    "user_vol = calculateSquare(length)\n",
    "print(user_vol)"
   ]
  },
  {
   "cell_type": "code",
   "execution_count": 18,
   "id": "8377ff14-2f2c-466f-a993-8d4c223201ef",
   "metadata": {},
   "outputs": [
    {
     "name": "stdin",
     "output_type": "stream",
     "text": [
      "Enter your income 34000\n"
     ]
    },
    {
     "name": "stdout",
     "output_type": "stream",
     "text": [
      "3400.0\n"
     ]
    }
   ],
   "source": [
    "def inputIncome():\n",
    "    user_income = int(input(\"Enter your income\"))\n",
    "    return user_income\n",
    "\n",
    "def calculateTax(income):\n",
    "    tax = 0.1*income\n",
    "    return tax\n",
    "\n",
    "income = inputIncome()\n",
    "user_tax =  calculateTax(income)\n",
    "print(user_tax)"
   ]
  },
  {
   "cell_type": "code",
   "execution_count": 19,
   "id": "4b6cd40e-7c8d-494f-a746-97f6a16ae1ae",
   "metadata": {},
   "outputs": [
    {
     "name": "stdin",
     "output_type": "stream",
     "text": [
      "Enter the radius of circle 34\n"
     ]
    },
    {
     "name": "stdout",
     "output_type": "stream",
     "text": [
      "3629.84\n"
     ]
    }
   ],
   "source": [
    "def inputRad():\n",
    "    user_rad = float(input(\"Enter the radius of circle\"))\n",
    "    return user_rad\n",
    "\n",
    "def calArea(radius):\n",
    "    area = 3.14*radius**2\n",
    "    return area\n",
    "\n",
    "radius = inputRad()\n",
    "user_area = calArea(radius)\n",
    "print(user_area)"
   ]
  },
  {
   "cell_type": "code",
   "execution_count": 19,
   "id": "051ad095-3ff3-4118-841c-c1ab783e71d5",
   "metadata": {},
   "outputs": [
    {
     "name": "stdout",
     "output_type": "stream",
     "text": [
      "[6, 7, 8, 9, 10, 11, 12, 13]\n"
     ]
    }
   ],
   "source": [
    "#)list comprehension\n",
    "list_number = [1,2,3,4,5,6,7,8]\n",
    "new_number_list = [num+5 for num in list_number]\n",
    "print(new_number_list)"
   ]
  },
  {
   "cell_type": "code",
   "execution_count": 20,
   "id": "a1480afb-31f0-4767-88fa-632b6f42bd8e",
   "metadata": {},
   "outputs": [
    {
     "name": "stdout",
     "output_type": "stream",
     "text": [
      "[20, 30, 40, 50, 60]\n"
     ]
    }
   ],
   "source": [
    "list_marks = [10,20,30,40,50]\n",
    "new_marks_list = [mark+10 for mark in list_marks]\n",
    "print(new_marks_list)"
   ]
  },
  {
   "cell_type": "code",
   "execution_count": 22,
   "id": "c4bfb397-d612-47c4-a24d-57c05ad7a0cb",
   "metadata": {},
   "outputs": [
    {
     "name": "stdout",
     "output_type": "stream",
     "text": [
      "[4, 8, 12, 16, 20, 24, 28, 32]\n"
     ]
    }
   ],
   "source": [
    "list_num = [1,2,3,4,5,6,7,8]\n",
    "new_list = [num*4 for num in list_num]\n",
    "print(new_list)"
   ]
  },
  {
   "cell_type": "code",
   "execution_count": 23,
   "id": "59f06e71-cee3-427b-8dd9-0408b0120b85",
   "metadata": {},
   "outputs": [
    {
     "data": {
      "text/plain": [
       "'sudharsan J'"
      ]
     },
     "execution_count": 23,
     "metadata": {},
     "output_type": "execute_result"
    }
   ],
   "source": [
    "#)lambda function\n",
    "full_name = lambda first_name,last_name: first_name + \" \" + last_name\n",
    "full_name('sudharsan', 'J')"
   ]
  },
  {
   "cell_type": "code",
   "execution_count": 23,
   "id": "06ec49fb-3bfd-457d-8f9f-93c094abd698",
   "metadata": {},
   "outputs": [
    {
     "data": {
      "text/plain": [
       "6"
      ]
     },
     "execution_count": 23,
     "metadata": {},
     "output_type": "execute_result"
    }
   ],
   "source": [
    "addition = lambda num1,num2:num1+num2\n",
    "addition(2,4)"
   ]
  },
  {
   "cell_type": "code",
   "execution_count": 26,
   "id": "b4d7c721-12e9-4610-b13b-6ce0ea9feff7",
   "metadata": {},
   "outputs": [
    {
     "data": {
      "text/plain": [
       "[15, 25, 35, 45, 55]"
      ]
     },
     "execution_count": 26,
     "metadata": {},
     "output_type": "execute_result"
    }
   ],
   "source": [
    "#)map function\n",
    "marks_list = [10,20,30,40,50]\n",
    "new_marks_list = list(map(lambda mark:mark+5,marks_list))\n",
    "new_marks_list"
   ]
  },
  {
   "cell_type": "code",
   "execution_count": 24,
   "id": "9e426ada-bc54-4a99-83a5-6bff6c7a8d56",
   "metadata": {},
   "outputs": [
    {
     "name": "stdout",
     "output_type": "stream",
     "text": [
      "[16, 17, 18, 19, 20, 21, 22]\n"
     ]
    }
   ],
   "source": [
    "num_list = [11,12,13,14,15,16,17]\n",
    "new_num_list = list(map(lambda num: num+5,num_list))\n",
    "print(new_num_list)"
   ]
  },
  {
   "cell_type": "code",
   "execution_count": 28,
   "id": "d77738d4-c0cc-49bb-98e0-81f011698ca7",
   "metadata": {},
   "outputs": [
    {
     "data": {
      "text/plain": [
       "[30, 40, 50]"
      ]
     },
     "execution_count": 28,
     "metadata": {},
     "output_type": "execute_result"
    }
   ],
   "source": [
    "#) filter function\n",
    "new_filtered_marks = list(filter(lambda mark:mark>20,marks_list))\n",
    "new_filtered_marks"
   ]
  },
  {
   "cell_type": "code",
   "execution_count": 25,
   "id": "22cdfc9e-9912-455e-8056-1a244ff99303",
   "metadata": {},
   "outputs": [
    {
     "name": "stdout",
     "output_type": "stream",
     "text": [
      "[65, 71, 43, 45]\n"
     ]
    }
   ],
   "source": [
    "num_list = [19,39,65,71,43,45]\n",
    "new_num_list = list(filter(lambda num:num>40,num_list))\n",
    "print(new_num_list)"
   ]
  },
  {
   "cell_type": "code",
   "execution_count": 29,
   "id": "fc488667-7ba8-4d59-a199-2f7968c365d9",
   "metadata": {},
   "outputs": [],
   "source": [
    "#)file handling - write\n",
    "with open (\"new_file.txt\",\"w+\") as ft:\n",
    "    ft.write(\"I am prepraing for ct exam\")"
   ]
  },
  {
   "cell_type": "code",
   "execution_count": 31,
   "id": "0c747772-b442-49d0-974a-c8c1936f6d9c",
   "metadata": {},
   "outputs": [],
   "source": [
    "#) append in the file\n",
    "with open (\"new_file.txt\",\"a+\") as ft:\n",
    "    ft.write(\"I am practicing the code\")"
   ]
  },
  {
   "cell_type": "code",
   "execution_count": 33,
   "id": "d716cee5-5d78-464b-a1fa-d043ab99a4e9",
   "metadata": {},
   "outputs": [
    {
     "name": "stdout",
     "output_type": "stream",
     "text": [
      "I am prepraing for ct examI am practicing the code\n"
     ]
    }
   ],
   "source": [
    "#) read the file\n",
    "with open (\"new_file.txt\",\"r+\") as ft:\n",
    "    data = ft.read()\n",
    "    print(data)"
   ]
  },
  {
   "cell_type": "code",
   "execution_count": 1,
   "id": "2289c2b7-71bf-447a-b644-89e0c96db835",
   "metadata": {},
   "outputs": [],
   "source": [
    "#) regular expression \n",
    "import re"
   ]
  },
  {
   "cell_type": "code",
   "execution_count": 2,
   "id": "14352e5d-fe0e-4e2e-8102-66cfb77ce3b0",
   "metadata": {},
   "outputs": [
    {
     "data": {
      "text/plain": [
       "<re.Match object; span=(2, 6), match='plan'>"
      ]
     },
     "execution_count": 2,
     "metadata": {},
     "output_type": "execute_result"
    }
   ],
   "source": [
    "#) one occurance\n",
    "text = 'I plan to visit kedarnath'\n",
    "re.search(\"plan\",text)"
   ]
  },
  {
   "cell_type": "code",
   "execution_count": 3,
   "id": "6a346911-cb1c-4d98-b7b9-99f6e31fe9ef",
   "metadata": {},
   "outputs": [
    {
     "data": {
      "text/plain": [
       "['plan', 'plan']"
      ]
     },
     "execution_count": 3,
     "metadata": {},
     "output_type": "execute_result"
    }
   ],
   "source": [
    "#) multiple occurance\n",
    "text = 'I plan to visit kedrnath and also plan to go ganges'\n",
    "re.findall(\"plan\",text)"
   ]
  },
  {
   "cell_type": "code",
   "execution_count": 4,
   "id": "335bda28-92c0-417a-b241-0b0c9e33a032",
   "metadata": {},
   "outputs": [
    {
     "name": "stdout",
     "output_type": "stream",
     "text": [
      "['bio', 'stream']\n"
     ]
    }
   ],
   "source": [
    "#)split\n",
    "text = 'bio-stream'\n",
    "splitting_text = re.split(\"-\",text)\n",
    "print(splitting_text)"
   ]
  },
  {
   "cell_type": "code",
   "execution_count": 5,
   "id": "5bb983a8-0725-4ef3-9f2a-f64a15895c37",
   "metadata": {},
   "outputs": [
    {
     "data": {
      "text/plain": [
       "'bio'"
      ]
     },
     "execution_count": 5,
     "metadata": {},
     "output_type": "execute_result"
    }
   ],
   "source": [
    "#) getting the text after split\n",
    "splitting_text[0]"
   ]
  },
  {
   "cell_type": "code",
   "execution_count": 6,
   "id": "410927b3-8bd0-4e0e-bd10-c713bbb7978c",
   "metadata": {},
   "outputs": [
    {
     "data": {
      "text/plain": [
       "'stream'"
      ]
     },
     "execution_count": 6,
     "metadata": {},
     "output_type": "execute_result"
    }
   ],
   "source": [
    "#) getting the text after split\n",
    "splitting_text[1]"
   ]
  },
  {
   "cell_type": "code",
   "execution_count": 8,
   "id": "aace4166-aa47-421c-91a5-35d746f9f452",
   "metadata": {},
   "outputs": [
    {
     "name": "stdout",
     "output_type": "stream",
     "text": [
      "b'\\x80\\x04\\x95B\\x00\\x00\\x00\\x00\\x00\\x00\\x00}\\x94(\\x8c\\x04name\\x94\\x8c\\tsudharsan\\x94\\x8c\\x06native\\x94\\x8c\\ncoimbatore\\x94\\x8c\\x05state\\x94\\x8c\\ttamilnadu\\x94u.'\n"
     ]
    }
   ],
   "source": [
    "#) pickle\n",
    "import pickle\n",
    "my_data = {\"name\":\"sudharsan\",\n",
    "          'native':\"coimbatore\",\n",
    "          \"state\":'tamilnadu'}\n",
    "byte_data = pickle.dumps(my_data)\n",
    "print(byte_data)"
   ]
  },
  {
   "cell_type": "code",
   "execution_count": 10,
   "id": "656a5a95-3325-4f18-86e5-04bcfe863473",
   "metadata": {},
   "outputs": [],
   "source": [
    "#) writing the byte data\n",
    "with open(\"my_file.pickle\",\"wb\") as ft:\n",
    "    ft.write(byte_data)"
   ]
  },
  {
   "cell_type": "code",
   "execution_count": 12,
   "id": "b0872d71-ad8e-4266-acbf-48f23b3960ec",
   "metadata": {},
   "outputs": [
    {
     "name": "stdout",
     "output_type": "stream",
     "text": [
      "{'name': 'sudharsan', 'native': 'coimbatore', 'state': 'tamilnadu'}\n"
     ]
    }
   ],
   "source": [
    "#) unpickling\n",
    "with open (\"my_file.pickle\",\"rb\") as ft:\n",
    "    data = ft.read()\n",
    "    data = pickle.loads(data)\n",
    "    print(data)"
   ]
  }
 ],
 "metadata": {
  "kernelspec": {
   "display_name": "Python 3 (ipykernel)",
   "language": "python",
   "name": "python3"
  },
  "language_info": {
   "codemirror_mode": {
    "name": "ipython",
    "version": 3
   },
   "file_extension": ".py",
   "mimetype": "text/x-python",
   "name": "python",
   "nbconvert_exporter": "python",
   "pygments_lexer": "ipython3",
   "version": "3.12.0"
  }
 },
 "nbformat": 4,
 "nbformat_minor": 5
}
