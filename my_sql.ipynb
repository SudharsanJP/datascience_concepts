{
 "cells": [
  {
   "cell_type": "code",
   "execution_count": 32,
   "id": "0261ad7f-a711-4293-88eb-9648e42f952e",
   "metadata": {},
   "outputs": [
    {
     "name": "stdout",
     "output_type": "stream",
     "text": [
      "------------------ct prepration -mysql------------------- \n",
      "---------------------------guvi-----------------------------\n"
     ]
    }
   ],
   "source": [
    "print(\"------------------ct prepration -mysql------------------- \\n---------------------------guvi-----------------------------\")"
   ]
  },
  {
   "cell_type": "code",
   "execution_count": 1,
   "id": "165ca216-5593-4de4-869e-d323d84ee95c",
   "metadata": {},
   "outputs": [],
   "source": [
    "import mysql.connector"
   ]
  },
  {
   "cell_type": "code",
   "execution_count": 3,
   "id": "6074b0e7-8725-4e2a-b212-351cdb1bb400",
   "metadata": {},
   "outputs": [],
   "source": [
    "#) estabishing the connection between jupyter notebook and mysql\n",
    "connection = mysql.connector.connect(\n",
    "    host = 'localhost',\n",
    "    user = 'root',\n",
    "    password = '@@@@@@'\n",
    ")\n",
    "cursor = connection.cursor()"
   ]
  },
  {
   "cell_type": "code",
   "execution_count": 4,
   "id": "0677ea9f-0d5a-4341-8858-490fa8a58bf7",
   "metadata": {},
   "outputs": [],
   "source": [
    "#) new database cumulative_test\n",
    "query = 'create database cumulative_test'\n",
    "cursor.execute(query)"
   ]
  },
  {
   "cell_type": "code",
   "execution_count": 6,
   "id": "b70f5b6a-c8ca-41ca-832f-73a9a164e550",
   "metadata": {},
   "outputs": [
    {
     "name": "stdout",
     "output_type": "stream",
     "text": [
      "('cumulative_test',)\n",
      "('d101',)\n",
      "('flowers',)\n",
      "('information_schema',)\n",
      "('mysql',)\n",
      "('pay',)\n",
      "('performance_schema',)\n",
      "('sakila',)\n",
      "('sudharsan',)\n",
      "('sys',)\n",
      "('world',)\n"
     ]
    }
   ],
   "source": [
    "#) showing all the database in my sql\n",
    "query = 'show databases'\n",
    "cursor.execute(query)\n",
    "for database in cursor:\n",
    "    print(database)"
   ]
  },
  {
   "cell_type": "code",
   "execution_count": 7,
   "id": "8b45638f-ad8c-4b98-848e-d2797cb9b5b5",
   "metadata": {},
   "outputs": [],
   "source": [
    "#) selecting the database\n",
    "connection = mysql.connector.connect(\n",
    "    host = 'localhost',\n",
    "    user = 'root',\n",
    "    password = 'Rudra@014',\n",
    "    database = \"cumulative_test\"\n",
    ")\n",
    "cursor = connection.cursor()"
   ]
  },
  {
   "cell_type": "code",
   "execution_count": 18,
   "id": "afb5e6fd-d69e-4610-802f-0856e8c10a44",
   "metadata": {},
   "outputs": [],
   "source": [
    "#) creating the table\n",
    "query = \"\"\"create table construction(bricks_num int, cement_type varchar(100), \n",
    "           cement_quantity int, sand_quantity float, house_type varchar(1000))\"\"\"\n",
    "cursor.execute(query)"
   ]
  },
  {
   "cell_type": "code",
   "execution_count": 19,
   "id": "bc8679e5-a3b1-4c71-8f8f-54e61968a22b",
   "metadata": {},
   "outputs": [
    {
     "name": "stdout",
     "output_type": "stream",
     "text": [
      "bricks_num int\n",
      "cement_type varchar(100)\n",
      "cement_quantity int\n",
      "sand_quantity float\n",
      "house_type varchar(1000)\n"
     ]
    }
   ],
   "source": [
    "#) showing construction table\n",
    "query = 'DESC construction'\n",
    "cursor.execute(query)\n",
    "result = cursor.fetchall()\n",
    "for col in result:\n",
    "    print(col[0],col[1])"
   ]
  },
  {
   "cell_type": "code",
   "execution_count": 20,
   "id": "0dcdae98-1417-4a62-933e-c732133f32c9",
   "metadata": {},
   "outputs": [
    {
     "name": "stdout",
     "output_type": "stream",
     "text": [
      "bricks_num\n",
      "cement_type\n",
      "cement_quantity\n",
      "sand_quantity\n",
      "house_type\n"
     ]
    }
   ],
   "source": [
    "#) showing table construction\n",
    "query = 'DESC construction'\n",
    "cursor.execute(query)\n",
    "result = cursor.fetchall()\n",
    "for col in result:\n",
    "    print(col[0])"
   ]
  },
  {
   "cell_type": "code",
   "execution_count": 21,
   "id": "0cc00d93-53e2-4a0a-82a6-cca1529018c9",
   "metadata": {},
   "outputs": [],
   "source": [
    "#) primary key\n",
    "query = \"\"\"create table house(\n",
    "                             house_num int primary key,\n",
    "                             floor_num int, \n",
    "                             location varchar(100))\"\"\"\n",
    "cursor.execute(query)"
   ]
  },
  {
   "cell_type": "code",
   "execution_count": 22,
   "id": "a4563e23-cf4b-4025-92af-5ac58cebc296",
   "metadata": {},
   "outputs": [
    {
     "name": "stdout",
     "output_type": "stream",
     "text": [
      "house_num int\n",
      "floor_num int\n",
      "location varchar(100)\n"
     ]
    }
   ],
   "source": [
    "#) showing table house \n",
    "query = 'DESC house'\n",
    "cursor.execute(query)\n",
    "result = cursor.fetchall()\n",
    "for col in result:\n",
    "    print(col[0],col[1])"
   ]
  },
  {
   "cell_type": "code",
   "execution_count": 23,
   "id": "7dd6fdbf-34f7-4f1b-895c-dfd22dc8f1b8",
   "metadata": {},
   "outputs": [],
   "source": [
    "#) inserting data in the table construction\n",
    "query = \"\"\"insert into construction(bricks_num,cement_type,cement_quantity,sand_quantity,house_type)\n",
    "       values(10,'A-grade',10,20,\"flat\")\"\"\"\n",
    "cursor.execute(query)\n",
    "connection.commit()"
   ]
  },
  {
   "cell_type": "code",
   "execution_count": 26,
   "id": "b14ba19b-7fa6-48c8-96bc-f5d35881620d",
   "metadata": {},
   "outputs": [],
   "source": [
    "#) inserting data into the table construction\n",
    "query = \"\"\"insert into construction values(15,\"B-grade\",12,14,\"villah\")\"\"\"\n",
    "cursor.execute(query)\n",
    "connection.commit()"
   ]
  },
  {
   "cell_type": "code",
   "execution_count": 27,
   "id": "4c86930a-14c7-446e-ae62-b7e2a42b65b6",
   "metadata": {},
   "outputs": [],
   "source": [
    "#) inserting data into the table construction\n",
    "query = \"\"\"insert into construction values(%s,%s,%s,%s,%s)\"\"\"\n",
    "data = (12,\"B-grade\",15,14,\"individual\")\n",
    "cursor.execute(query,data)\n",
    "connection.commit()"
   ]
  },
  {
   "cell_type": "code",
   "execution_count": 31,
   "id": "a7a15ef1-3dff-4fdc-ad73-69ee63ebf460",
   "metadata": {},
   "outputs": [],
   "source": [
    "#) inserting many data into table construction\n",
    "query = \"\"\"insert into construction values(%s,%s,%s,%s,%s)\"\"\"\n",
    "data = [\n",
    "    (12,'A-grade',13,12,\"villah\"),\n",
    "    (14,'B-grade',12,15,\"flat\"),\n",
    "    (12,'A-grade',12,15,\"individual\")\n",
    "]\n",
    "cursor.executemany(query,data)\n",
    "connection.commit()"
   ]
  },
  {
   "cell_type": "code",
   "execution_count": 33,
   "id": "320471a0-cb12-4a60-8e15-bfe8a2d1e774",
   "metadata": {},
   "outputs": [
    {
     "name": "stdout",
     "output_type": "stream",
     "text": [
      "(10, 'A-grade', 10, 20.0, 'flat')\n",
      "(15, 'B-grade', 12, 14.0, 'villah')\n",
      "(12, 'B-grade', 15, 14.0, 'individual')\n",
      "(12, 'A-grade', 13, 12.0, 'villah')\n",
      "(14, 'B-grade', 12, 15.0, 'flat')\n",
      "(12, 'A-grade', 12, 15.0, 'individual')\n"
     ]
    }
   ],
   "source": [
    "#) to display the all data from table construction \n",
    "query = \"select * from construction\"\n",
    "cursor.execute(query)\n",
    "for row in cursor.fetchall():\n",
    "    print(row)"
   ]
  },
  {
   "cell_type": "code",
   "execution_count": 34,
   "id": "e9e6ecb4-891a-47fe-a95e-aded8a371c8e",
   "metadata": {},
   "outputs": [
    {
     "name": "stdout",
     "output_type": "stream",
     "text": [
      "(10,)\n",
      "(15,)\n",
      "(12,)\n",
      "(12,)\n",
      "(14,)\n",
      "(12,)\n"
     ]
    }
   ],
   "source": [
    "#) to display one column data from the table\n",
    "query = \"select bricks_num from construction\"\n",
    "cursor.execute(query)\n",
    "for row in cursor.fetchall():\n",
    "    print(row)"
   ]
  },
  {
   "cell_type": "code",
   "execution_count": 35,
   "id": "fc4b6ed2-c53e-443a-8eec-1c3be0fa1170",
   "metadata": {},
   "outputs": [
    {
     "name": "stdout",
     "output_type": "stream",
     "text": [
      "(10, 'A-grade')\n",
      "(15, 'B-grade')\n",
      "(12, 'B-grade')\n",
      "(12, 'A-grade')\n",
      "(14, 'B-grade')\n",
      "(12, 'A-grade')\n"
     ]
    }
   ],
   "source": [
    "#) to display two column data from the table\n",
    "query = \"select bricks_num,cement_type from construction\"\n",
    "cursor.execute(query)\n",
    "for row in cursor.fetchall():\n",
    "    print(row)"
   ]
  },
  {
   "cell_type": "code",
   "execution_count": 39,
   "id": "23c74718-6060-4df2-a117-e109462c1d04",
   "metadata": {},
   "outputs": [
    {
     "name": "stdout",
     "output_type": "stream",
     "text": [
      "(10, 'A-grade', 10, 20.0, 'flat')\n",
      "(12, 'A-grade', 13, 12.0, 'villah')\n",
      "(12, 'A-grade', 12, 15.0, 'individual')\n"
     ]
    }
   ],
   "source": [
    "#) to get specific data from table construction\n",
    "query = \"\"\"select * from construction where cement_type = 'A-grade'\"\"\"\n",
    "cursor.execute(query)\n",
    "for row in cursor.fetchall():\n",
    "    print(row)"
   ]
  },
  {
   "cell_type": "code",
   "execution_count": 40,
   "id": "e427a56c-1805-4319-9f2c-4d0d490de344",
   "metadata": {},
   "outputs": [
    {
     "name": "stdout",
     "output_type": "stream",
     "text": [
      "(12, 'B-grade', 15, 14.0, 'individual')\n",
      "(12, 'A-grade', 13, 12.0, 'villah')\n",
      "(12, 'A-grade', 12, 15.0, 'individual')\n"
     ]
    }
   ],
   "source": [
    "#) to get specific data from table contruction\n",
    "query = \"\"\"select * from construction where bricks_num = 12\"\"\"\n",
    "cursor.execute(query)\n",
    "for row in cursor.fetchall():\n",
    "    print(row)"
   ]
  },
  {
   "cell_type": "code",
   "execution_count": 43,
   "id": "87127d31-04f5-4677-9358-997330722f39",
   "metadata": {},
   "outputs": [
    {
     "name": "stdout",
     "output_type": "stream",
     "text": [
      "(15, 'B-grade', 12, 14.0, 'villah')\n",
      "(12, 'B-grade', 15, 14.0, 'individual')\n"
     ]
    }
   ],
   "source": [
    "#) to get specific data from table contruction\n",
    "query = \"\"\"select* from construction where cement_type = 'B-grade' limit 2\"\"\"\n",
    "cursor.execute(query)\n",
    "for row in cursor.fetchall():\n",
    "    print(row)"
   ]
  },
  {
   "cell_type": "code",
   "execution_count": 45,
   "id": "032db92a-5741-4528-8d7d-6637a2c91bc6",
   "metadata": {},
   "outputs": [],
   "source": [
    "#) to replace one row data with new data\n",
    "query = \"\"\"update construction set bricks_num = 20 where cement_quantity = 12\"\"\"\n",
    "cursor.execute(query)\n",
    "connection.commit()"
   ]
  },
  {
   "cell_type": "code",
   "execution_count": 51,
   "id": "5725a2ec-ec2c-493a-af0f-2f251fd1c10c",
   "metadata": {},
   "outputs": [
    {
     "name": "stdout",
     "output_type": "stream",
     "text": [
      "(10, 'A-grade', 10, 20.0, 'flat')\n",
      "(20, 'B-grade', 12, 14.0, 'villah')\n",
      "(12, 'B-grade', 15, 14.0, 'individual')\n",
      "(12, 'A-grade', 13, 12.0, 'villah')\n",
      "(20, 'B-grade', 12, 15.0, 'flat')\n",
      "(20, 'A-grade', 12, 15.0, 'individual')\n"
     ]
    }
   ],
   "source": [
    "#) to display the all data from table construction \n",
    "query = \"select * from construction\"\n",
    "cursor.execute(query)\n",
    "for row in cursor.fetchall():\n",
    "    print(row)"
   ]
  },
  {
   "cell_type": "code",
   "execution_count": 52,
   "id": "9e507f9d-c89d-4ef4-81d7-e01db22d63ac",
   "metadata": {},
   "outputs": [],
   "source": [
    "query = \"\"\"delete from construction where bricks_num = 10\"\"\"\n",
    "cursor.execute(query)\n",
    "for row in cursor.fetchall():\n",
    "    print(row)"
   ]
  },
  {
   "cell_type": "code",
   "execution_count": 54,
   "id": "4032707e-9ac9-473d-8782-e7248306eed9",
   "metadata": {},
   "outputs": [
    {
     "name": "stdout",
     "output_type": "stream",
     "text": [
      "(20, 'B-grade', 12, 14.0, 'villah')\n",
      "(12, 'B-grade', 15, 14.0, 'individual')\n",
      "(12, 'A-grade', 13, 12.0, 'villah')\n",
      "(20, 'B-grade', 12, 15.0, 'flat')\n",
      "(20, 'A-grade', 12, 15.0, 'individual')\n"
     ]
    }
   ],
   "source": [
    "query = \"select * from construction\"\n",
    "cursor.execute(query)\n",
    "for row in cursor.fetchall():\n",
    "    print(row)"
   ]
  },
  {
   "cell_type": "code",
   "execution_count": 55,
   "id": "ac395dfa-a0bb-42ba-8ff1-b72c038cf549",
   "metadata": {},
   "outputs": [
    {
     "name": "stdout",
     "output_type": "stream",
     "text": [
      "(5, 12, 20)\n"
     ]
    }
   ],
   "source": [
    "#) count, min, max of a column value\n",
    "query = \"\"\"select count(\"cement_type\"),min(bricks_num),max(bricks_num) from construction\"\"\"\n",
    "cursor.execute(query)\n",
    "for data in cursor.fetchall():\n",
    "    print(data)"
   ]
  },
  {
   "cell_type": "code",
   "execution_count": 5,
   "id": "d5d7ff6f-2d48-49d0-8b2b-1268de2fbcb0",
   "metadata": {},
   "outputs": [],
   "source": [
    "#) alter the datatype of a column\n",
    "#query = \"alter table construction add location varchar(100)\"\n",
    "#cursor.execute(query)"
   ]
  },
  {
   "cell_type": "code",
   "execution_count": 6,
   "id": "4704aa29-908d-450c-8ae0-2704011d7d8e",
   "metadata": {},
   "outputs": [
    {
     "name": "stdout",
     "output_type": "stream",
     "text": [
      "(20, 'B-grade', 12, 14.0, 'villah', None)\n",
      "(12, 'B-grade', 15, 14.0, 'individual', None)\n",
      "(12, 'A-grade', 13, 12.0, 'villah', None)\n",
      "(20, 'B-grade', 12, 15.0, 'flat', None)\n",
      "(20, 'A-grade', 12, 15.0, 'individual', None)\n"
     ]
    }
   ],
   "source": [
    "query = \"select * from construction\"\n",
    "cursor.execute(query)\n",
    "for row in cursor.fetchall():\n",
    "    print(row)"
   ]
  },
  {
   "cell_type": "code",
   "execution_count": 7,
   "id": "3c7271dd-c391-42bc-ad83-46906c7ed7c3",
   "metadata": {},
   "outputs": [],
   "source": [
    "#) to replace one row data with new data\n",
    "query = \"\"\"update construction set location = \"loc1\" where cement_quantity = 12\"\"\"\n",
    "cursor.execute(query)\n",
    "connection.commit()"
   ]
  },
  {
   "cell_type": "code",
   "execution_count": 8,
   "id": "d8ac4195-fa81-465b-beb5-a805523699ee",
   "metadata": {},
   "outputs": [
    {
     "name": "stdout",
     "output_type": "stream",
     "text": [
      "(20, 'B-grade', 12, 14.0, 'villah', 'loc1')\n",
      "(12, 'B-grade', 15, 14.0, 'individual', None)\n",
      "(12, 'A-grade', 13, 12.0, 'villah', None)\n",
      "(20, 'B-grade', 12, 15.0, 'flat', 'loc1')\n",
      "(20, 'A-grade', 12, 15.0, 'individual', 'loc1')\n"
     ]
    }
   ],
   "source": [
    "query = \"select * from construction\"\n",
    "cursor.execute(query)\n",
    "for row in cursor.fetchall():\n",
    "    print(row)"
   ]
  },
  {
   "cell_type": "code",
   "execution_count": 9,
   "id": "a5d6911e-237a-4952-8c76-ecd6ea20499e",
   "metadata": {},
   "outputs": [],
   "source": [
    "#) to replace one row data with new data\n",
    "query = \"\"\"update construction set location = \"loc2\" where bricks_num = 20\"\"\"\n",
    "cursor.execute(query)\n",
    "connection.commit()"
   ]
  },
  {
   "cell_type": "code",
   "execution_count": 10,
   "id": "ebf3e807-cb8c-4da9-81ad-26774d579826",
   "metadata": {},
   "outputs": [
    {
     "name": "stdout",
     "output_type": "stream",
     "text": [
      "(20, 'B-grade', 12, 14.0, 'villah', 'loc2')\n",
      "(12, 'B-grade', 15, 14.0, 'individual', None)\n",
      "(12, 'A-grade', 13, 12.0, 'villah', None)\n",
      "(20, 'B-grade', 12, 15.0, 'flat', 'loc2')\n",
      "(20, 'A-grade', 12, 15.0, 'individual', 'loc2')\n"
     ]
    }
   ],
   "source": [
    "query = \"select * from construction\"\n",
    "cursor.execute(query)\n",
    "for row in cursor.fetchall():\n",
    "    print(row)"
   ]
  },
  {
   "cell_type": "code",
   "execution_count": 11,
   "id": "3f179b73-cbe0-4a16-b769-186d03094e9e",
   "metadata": {},
   "outputs": [],
   "source": [
    "#) to replace one row data with new data\n",
    "query = \"\"\"update construction set location = \"loc1\" where bricks_num = 12\"\"\"\n",
    "cursor.execute(query)\n",
    "connection.commit()"
   ]
  },
  {
   "cell_type": "code",
   "execution_count": 12,
   "id": "27f20950-c494-4254-81a2-579009a1f281",
   "metadata": {},
   "outputs": [
    {
     "name": "stdout",
     "output_type": "stream",
     "text": [
      "(20, 'B-grade', 12, 14.0, 'villah', 'loc2')\n",
      "(12, 'B-grade', 15, 14.0, 'individual', 'loc1')\n",
      "(12, 'A-grade', 13, 12.0, 'villah', 'loc1')\n",
      "(20, 'B-grade', 12, 15.0, 'flat', 'loc2')\n",
      "(20, 'A-grade', 12, 15.0, 'individual', 'loc2')\n"
     ]
    }
   ],
   "source": [
    "query = \"select * from construction\"\n",
    "cursor.execute(query)\n",
    "for row in cursor.fetchall():\n",
    "    print(row)"
   ]
  },
  {
   "cell_type": "code",
   "execution_count": 13,
   "id": "cc1b9a6b-e9ba-4492-9edc-7dac0dd9ccfb",
   "metadata": {},
   "outputs": [
    {
     "name": "stdout",
     "output_type": "stream",
     "text": [
      "(20, 'B-grade', 12, 14.0, 'villah')\n",
      "(12, 'B-grade', 15, 14.0, 'individual')\n",
      "(12, 'A-grade', 13, 12.0, 'villah')\n",
      "(20, 'B-grade', 12, 15.0, 'flat')\n",
      "(20, 'A-grade', 12, 15.0, 'individual')\n"
     ]
    }
   ],
   "source": [
    "#) to drop a column\n",
    "query = \"alter table construction drop column location\"\n",
    "cursor.execute(query)\n",
    "query = \"select* from construction\"\n",
    "cursor.execute(query)\n",
    "for data in cursor.fetchall():\n",
    "    print(data)"
   ]
  },
  {
   "cell_type": "code",
   "execution_count": 16,
   "id": "4ba4493f-4e38-46a7-9314-e38dfd63583d",
   "metadata": {},
   "outputs": [
    {
     "name": "stdout",
     "output_type": "stream",
     "text": [
      "('B-grade', 14.0, 'villah')\n",
      "('B-grade', 14.0, 'individual')\n",
      "('A-grade', 12.0, 'villah')\n",
      "('B-grade', 15.0, 'flat')\n",
      "('A-grade', 15.0, 'individual')\n"
     ]
    }
   ],
   "source": [
    "#) to drop two column\n",
    "query = \"\"\"alter table construction drop column bricks_num,drop column cement_quantity\"\"\"\n",
    "cursor.execute(query)\n",
    "query = \"select* from construction\"\n",
    "cursor.execute(query)\n",
    "for data in cursor.fetchall():\n",
    "    print(data)"
   ]
  },
  {
   "cell_type": "code",
   "execution_count": 17,
   "id": "e1c8e5a4-6a42-4b2e-bf1b-a571ff632dc3",
   "metadata": {},
   "outputs": [],
   "source": [
    "#) creating two tables\n",
    "query1 = \"\"\"create table student(roll_number int, student_name varchar(100),marks float)\"\"\"\n",
    "query2 = \"\"\"create table address(roll_number int, city varchar(100))\"\"\"\n",
    "cursor.execute(query1)\n",
    "cursor.execute(query2)"
   ]
  },
  {
   "cell_type": "code",
   "execution_count": 18,
   "id": "d601e054-adea-445a-ad30-8afe7a342851",
   "metadata": {},
   "outputs": [],
   "source": [
    "#)inserting data into table 1\n",
    "query = \"\"\"insert into student values(%s,%s,%s)\"\"\"\n",
    "data = [\n",
    "    (5001,\"dev\",71.5),\n",
    "    (5002,\"jagadeesh\",76.9),\n",
    "    (5003,\"parameshwar\",77.5)\n",
    "]\n",
    "cursor.executemany(query,data)\n",
    "connection.commit()"
   ]
  },
  {
   "cell_type": "code",
   "execution_count": 20,
   "id": "6f553f3a-6efe-40fd-8e96-a9ddfc2ee349",
   "metadata": {},
   "outputs": [],
   "source": [
    "#)inserting data into table 1\n",
    "query = \"\"\"insert into student values(%s,%s,%s)\"\"\"\n",
    "data =(4001,\"ram\",61.5)\n",
    "cursor.execute(query,data)\n",
    "connection.commit()"
   ]
  },
  {
   "cell_type": "code",
   "execution_count": 23,
   "id": "82eb198b-a208-4753-bbd0-0b737169fd8d",
   "metadata": {},
   "outputs": [
    {
     "name": "stdout",
     "output_type": "stream",
     "text": [
      "(5001, 'dev', 71.5)\n",
      "(5002, 'jagadeesh', 76.9)\n",
      "(5003, 'parameshwar', 77.5)\n",
      "(4001, 'ram', 61.5)\n"
     ]
    }
   ],
   "source": [
    "query = \"select* from student\"\n",
    "cursor.execute(query)\n",
    "for data in cursor.fetchall():\n",
    "    print(data)"
   ]
  },
  {
   "cell_type": "code",
   "execution_count": 9,
   "id": "1d353313-fc35-4cd2-bbd2-03a05d9349ad",
   "metadata": {},
   "outputs": [],
   "source": [
    "#) inserting data into table 2\n",
    "query = \"\"\"insert into address values(%s,%s)\"\"\"\n",
    "data = [\n",
    "    (5001,\"coimbatore\"),\n",
    "    (5002,\"salem\"),\n",
    "    (5003,\"chennai\")\n",
    "]\n",
    "cursor.executemany(query,data)\n",
    "connection.commit()"
   ]
  },
  {
   "cell_type": "code",
   "execution_count": 21,
   "id": "ce6bde66-d492-4725-8460-6021086137d4",
   "metadata": {},
   "outputs": [],
   "source": [
    "#)inserting data into table 2\n",
    "query = \"\"\"insert into address values(%s,%s)\"\"\"\n",
    "data =(3001,\"Erode\")\n",
    "cursor.execute(query,data)\n",
    "connection.commit()"
   ]
  },
  {
   "cell_type": "code",
   "execution_count": 22,
   "id": "2b1b8038-a3a3-4442-8e84-7e4ceb1879d4",
   "metadata": {},
   "outputs": [
    {
     "name": "stdout",
     "output_type": "stream",
     "text": [
      "(5001, 'coimbatore')\n",
      "(5002, 'salem')\n",
      "(5003, 'chennai')\n",
      "(3001, 'Erode')\n"
     ]
    }
   ],
   "source": [
    "query = \"select* from address\"\n",
    "cursor.execute(query)\n",
    "for data in cursor.fetchall():\n",
    "    print(data)"
   ]
  },
  {
   "cell_type": "code",
   "execution_count": null,
   "id": "6394c05b-e74d-470f-912f-6ff34fc51567",
   "metadata": {},
   "outputs": [],
   "source": [
    "query1 = \"create table bank1(account_number int, name varchar(40), balance int, aadhar_number int)\"\n",
    "query2 = \"create table aadhar1(number int, address varchar(40), father_name varchar(60))\"\n",
    "cursor.execute(query1)\n",
    "cursor.execute(query2)\n",
    "\n",
    "query = \"select * from bank inner join aadhar on bank.aadhar_number=aadhar.number\"\n",
    "cursor.execute(query)\n",
    "for data in cursor.fetchall():\n",
    "    print(data)"
   ]
  },
  {
   "cell_type": "code",
   "execution_count": 12,
   "id": "b5bca041-8cde-43d6-b4de-9fcf62297385",
   "metadata": {},
   "outputs": [],
   "source": [
    "#) rename the column\n",
    "query = \"\"\"ALTER TABLE Student RENAME Column roll_number to number\"\"\"\n",
    "cursor.execute(query)"
   ]
  },
  {
   "cell_type": "code",
   "execution_count": 24,
   "id": "e0375924-d2df-4f24-865b-5e62b5c726f8",
   "metadata": {},
   "outputs": [
    {
     "name": "stdout",
     "output_type": "stream",
     "text": [
      "(5001, 'dev', 71.5, 5001, 'coimbatore')\n",
      "(5002, 'jagadeesh', 76.9, 5002, 'salem')\n",
      "(5003, 'parameshwar', 77.5, 5003, 'chennai')\n"
     ]
    }
   ],
   "source": [
    "#)inner join\n",
    "query = \"\"\"select * from student inner join address on student.number = address.roll_number\"\"\"\n",
    "cursor.execute(query)\n",
    "for data in cursor.fetchall():\n",
    "    print(data)"
   ]
  },
  {
   "cell_type": "code",
   "execution_count": 25,
   "id": "09bd8de4-60ed-415e-96fe-b36df3d9e030",
   "metadata": {},
   "outputs": [
    {
     "name": "stdout",
     "output_type": "stream",
     "text": [
      "(5001, 'dev', 71.5, 5001, 'coimbatore')\n",
      "(5002, 'jagadeesh', 76.9, 5002, 'salem')\n",
      "(5003, 'parameshwar', 77.5, 5003, 'chennai')\n",
      "(4001, 'ram', 61.5, None, None)\n"
     ]
    }
   ],
   "source": [
    "#)left join\n",
    "query = \"\"\"select * from student left join address on student.number = address.roll_number\"\"\"\n",
    "cursor.execute(query)\n",
    "for data in cursor.fetchall():\n",
    "    print(data)"
   ]
  },
  {
   "cell_type": "code",
   "execution_count": 26,
   "id": "85202570-c177-40d9-81a1-6def01361efe",
   "metadata": {},
   "outputs": [
    {
     "name": "stdout",
     "output_type": "stream",
     "text": [
      "(5001, 'dev', 71.5, 5001, 'coimbatore')\n",
      "(5002, 'jagadeesh', 76.9, 5002, 'salem')\n",
      "(5003, 'parameshwar', 77.5, 5003, 'chennai')\n",
      "(None, None, None, 3001, 'Erode')\n"
     ]
    }
   ],
   "source": [
    "#)right join\n",
    "query = \"\"\"select * from student right join address on student.number = address.roll_number\"\"\"\n",
    "cursor.execute(query)\n",
    "for data in cursor.fetchall():\n",
    "    print(data)"
   ]
  },
  {
   "cell_type": "code",
   "execution_count": 27,
   "id": "edae74a0-a159-454e-b736-1c5a3ca748b5",
   "metadata": {},
   "outputs": [
    {
     "name": "stdout",
     "output_type": "stream",
     "text": [
      "(4001, 'ram', 61.5, 5001, 'coimbatore')\n",
      "(5003, 'parameshwar', 77.5, 5001, 'coimbatore')\n",
      "(5002, 'jagadeesh', 76.9, 5001, 'coimbatore')\n",
      "(5001, 'dev', 71.5, 5001, 'coimbatore')\n",
      "(4001, 'ram', 61.5, 5002, 'salem')\n",
      "(5003, 'parameshwar', 77.5, 5002, 'salem')\n",
      "(5002, 'jagadeesh', 76.9, 5002, 'salem')\n",
      "(5001, 'dev', 71.5, 5002, 'salem')\n",
      "(4001, 'ram', 61.5, 5003, 'chennai')\n",
      "(5003, 'parameshwar', 77.5, 5003, 'chennai')\n",
      "(5002, 'jagadeesh', 76.9, 5003, 'chennai')\n",
      "(5001, 'dev', 71.5, 5003, 'chennai')\n",
      "(4001, 'ram', 61.5, 3001, 'Erode')\n",
      "(5003, 'parameshwar', 77.5, 3001, 'Erode')\n",
      "(5002, 'jagadeesh', 76.9, 3001, 'Erode')\n",
      "(5001, 'dev', 71.5, 3001, 'Erode')\n"
     ]
    }
   ],
   "source": [
    "query = \"select * from student cross join address\"\n",
    "cursor.execute(query)\n",
    "for data in cursor.fetchall():\n",
    "    print(data)"
   ]
  },
  {
   "cell_type": "code",
   "execution_count": null,
   "id": "8935f0cf-3af9-4d45-9094-eebae3c6f1e3",
   "metadata": {},
   "outputs": [],
   "source": []
  }
 ],
 "metadata": {
  "kernelspec": {
   "display_name": "Python 3 (ipykernel)",
   "language": "python",
   "name": "python3"
  },
  "language_info": {
   "codemirror_mode": {
    "name": "ipython",
    "version": 3
   },
   "file_extension": ".py",
   "mimetype": "text/x-python",
   "name": "python",
   "nbconvert_exporter": "python",
   "pygments_lexer": "ipython3",
   "version": "3.12.0"
  }
 },
 "nbformat": 4,
 "nbformat_minor": 5
}
